{
 "cells": [
  {
   "cell_type": "code",
   "execution_count": null,
   "id": "86870166",
   "metadata": {},
   "outputs": [],
   "source": [
    "import numpy as np\n",
    "from lapin import lapin\n",
    "from faddis import faddis\n",
    "\n",
    "from operator import itemgetter\n",
    "\n",
    "NUM_EL = 15\n",
    "alpha = 0.2\n",
    "\n",
    "\n",
    "if __name__ == \"__main__\":\n",
    "    relevance_matrix = np.loadtxt(\"relevance_matrix.txt\").T\n",
    "    print(relevance_matrix.shape)\n",
    "\n",
    "    rm_threshold = relevance_matrix > alpha\n",
    "    abstract_threshold_count = np.sum(rm_threshold, axis=0)\n",
    "    max_threshold_count = max(abstract_threshold_count)\n",
    "    abstract_weight = max_threshold_count / abstract_threshold_count\n",
    "    W = np.diag(abstract_weight)\n",
    "\n",
    "    tc = relevance_matrix.dot(W).dot(relevance_matrix.T)\n",
    "    print(tc.shape)\n",
    "\n",
    "    tc_transformed = lapin(tc)\n",
    "    B, member, contrib, intensity, lat, tt = faddis(tc_transformed)\n",
    "    np.savetxt(\"clusters.dat\", member)\n",
    "\n",
    "    with open(\"taxonomy_leaves.txt\") as fn:\n",
    "        annotations = [l.strip() for l in fn]\n",
    "\n",
    "    for cluster in member.T:\n",
    "        print(list(sorted(zip(annotations, cluster.flat),\n",
    "                          key=itemgetter(1), reverse=True))[:NUM_EL])"
   ]
  },
  {
   "cell_type": "code",
   "execution_count": null,
   "id": "3134fd49",
   "metadata": {},
   "outputs": [],
   "source": []
  },
  {
   "cell_type": "code",
   "execution_count": null,
   "id": "834ee206",
   "metadata": {},
   "outputs": [],
   "source": []
  },
  {
   "cell_type": "code",
   "execution_count": 18,
   "id": "233c0b71",
   "metadata": {},
   "outputs": [],
   "source": [
    "import numpy as np\n",
    "from operator import itemgetter\n",
    "NUM_EL = 15"
   ]
  },
  {
   "cell_type": "code",
   "execution_count": 19,
   "id": "c0ca10cb",
   "metadata": {},
   "outputs": [],
   "source": [
    "member = np.loadtxt(\"clusters.dat\")"
   ]
  },
  {
   "cell_type": "code",
   "execution_count": 20,
   "id": "40207e4b",
   "metadata": {},
   "outputs": [
    {
     "data": {
      "text/plain": [
       "(352, 3)"
      ]
     },
     "execution_count": 20,
     "metadata": {},
     "output_type": "execute_result"
    }
   ],
   "source": [
    "member.shape"
   ]
  },
  {
   "cell_type": "code",
   "execution_count": 21,
   "id": "46f8374b",
   "metadata": {},
   "outputs": [
    {
     "name": "stdout",
     "output_type": "stream",
     "text": [
      "CLUSTER:\n",
      "\n",
      "[('data provenance', 0.4707643721456703), ('apprenticeship learning', 0.3251215365531277), ('information extraction', 0.31832054040261576), ('data exchange', 0.3005460919901672), ('sequential decision making', 0.28630313045725053), ('adversarial learning', 0.2731795995912557), ('gaussian processes', 0.258476513567086), ('multi-agent reinforcement learning', 0.23603420039691167), ('markov decision processes', 0.21608407632075977), ('boosting', 0.20287614009695887), ('2d pca', 0.20198232433172436), ('data cleaning', 0.1709956853629661), ('distributed database recovery', 0.159762043876654), ('cluster analysis', 0.10188978867578631), ('data locking', 0.05812390045299409)]\n",
      "\n",
      "\n",
      "\n",
      "CLUSTER:\n",
      "\n",
      "[('data provenance', 0.4733135907761032), ('apprenticeship learning', 0.3254410743435387), ('information extraction', 0.31925100459129224), ('data exchange', 0.3017354667013574), ('sequential decision making', 0.2873979631674248), ('adversarial learning', 0.2733960219312089), ('gaussian processes', 0.2593199539440386), ('multi-agent reinforcement learning', 0.23609626926814686), ('markov decision processes', 0.21637045410593206), ('2d pca', 0.20301941722581854), ('boosting', 0.20267937655440352), ('data cleaning', 0.1707221212776107), ('distributed data locking', 0.12293275518233254), ('cluster analysis', 0.10136303137293494), ('database recovery', 0.09391446259444132)]\n",
      "\n",
      "\n",
      "\n",
      "CLUSTER:\n",
      "\n",
      "[('learning to rank', 0.4265286656527778), ('inverse reinforcement learning', 0.34754990565407384), ('boosting', 0.321623614059304), ('adversarial learning', 0.29918134667262664), ('support vector machines', 0.27664392352818085), ('anomaly detection', 0.2678337099064585), ('data provenance', 0.2469901490920297), ('sequential decision making', 0.24354389803757126), ('2d pca', 0.22402111469814626), ('markov decision processes', 0.2206036423900208), ('data exchange', 0.20548834983706082), ('information extraction', 0.20408117777529713), ('apprenticeship learning', 0.1472771564513177), ('gaussian processes', 0.11336187990436679), ('data cleaning', 0.09640550224493914)]\n",
      "\n",
      "\n",
      "\n"
     ]
    }
   ],
   "source": [
    "with open(\"taxonomy_leaves.txt\") as fn:\n",
    "    annotations = [l.strip() for l in fn]\n",
    "\n",
    "for cluster in member.T:\n",
    "    print(\"CLUSTER:\\n\")\n",
    "    print(list(sorted(zip(annotations, cluster.flat),\n",
    "                      key=itemgetter(1), reverse=True))[:NUM_EL])\n",
    "    print(\"\\n\\n\")"
   ]
  },
  {
   "cell_type": "code",
   "execution_count": 5,
   "id": "3d91ab0e",
   "metadata": {},
   "outputs": [
    {
     "data": {
      "text/plain": [
       "array([[0.00000000e+00, 1.22769209e-12, 9.70496189e-11, ...,\n",
       "        6.16375164e-11, 1.89891019e-12, 4.14235425e-12],\n",
       "       [0.00000000e+00, 0.00000000e+00, 0.00000000e+00, ...,\n",
       "        0.00000000e+00, 0.00000000e+00, 0.00000000e+00],\n",
       "       [0.00000000e+00, 0.00000000e+00, 0.00000000e+00, ...,\n",
       "        0.00000000e+00, 0.00000000e+00, 0.00000000e+00]])"
      ]
     },
     "execution_count": 5,
     "metadata": {},
     "output_type": "execute_result"
    }
   ],
   "source": [
    "member.T"
   ]
  },
  {
   "cell_type": "code",
   "execution_count": 6,
   "id": "9578dfc9",
   "metadata": {},
   "outputs": [
    {
     "data": {
      "text/plain": [
       "0.4733135907761032"
      ]
     },
     "execution_count": 6,
     "metadata": {},
     "output_type": "execute_result"
    }
   ],
   "source": [
    "np.max(member)"
   ]
  },
  {
   "cell_type": "code",
   "execution_count": 7,
   "id": "29746f71",
   "metadata": {},
   "outputs": [
    {
     "data": {
      "text/plain": [
       "0.0"
      ]
     },
     "execution_count": 7,
     "metadata": {},
     "output_type": "execute_result"
    }
   ],
   "source": [
    "np.min(member)"
   ]
  },
  {
   "cell_type": "code",
   "execution_count": 12,
   "id": "6ce3ec84",
   "metadata": {},
   "outputs": [
    {
     "data": {
      "text/plain": [
       "(array([1010,    3,    5,    4,   12,    8,   10,    1,    0,    3]),\n",
       " array([0.        , 0.04733136, 0.09466272, 0.14199408, 0.18932544,\n",
       "        0.2366568 , 0.28398815, 0.33131951, 0.37865087, 0.42598223,\n",
       "        0.47331359]))"
      ]
     },
     "execution_count": 12,
     "metadata": {},
     "output_type": "execute_result"
    }
   ],
   "source": [
    "np.histogram(member.flatten())"
   ]
  },
  {
   "cell_type": "code",
   "execution_count": 11,
   "id": "134a017d",
   "metadata": {},
   "outputs": [
    {
     "data": {
      "text/plain": [
       "array([[0.00000000e+00, 0.00000000e+00, 0.00000000e+00],\n",
       "       [1.22769209e-12, 0.00000000e+00, 0.00000000e+00],\n",
       "       [9.70496189e-11, 0.00000000e+00, 0.00000000e+00],\n",
       "       ...,\n",
       "       [6.16375164e-11, 0.00000000e+00, 0.00000000e+00],\n",
       "       [1.89891019e-12, 0.00000000e+00, 0.00000000e+00],\n",
       "       [4.14235425e-12, 0.00000000e+00, 0.00000000e+00]])"
      ]
     },
     "execution_count": 11,
     "metadata": {},
     "output_type": "execute_result"
    }
   ],
   "source": []
  },
  {
   "cell_type": "code",
   "execution_count": null,
   "id": "d18da098",
   "metadata": {},
   "outputs": [],
   "source": []
  },
  {
   "cell_type": "code",
   "execution_count": null,
   "id": "151d0b99",
   "metadata": {},
   "outputs": [],
   "source": []
  },
  {
   "cell_type": "code",
   "execution_count": null,
   "id": "cead2ba5",
   "metadata": {},
   "outputs": [],
   "source": []
  },
  {
   "cell_type": "code",
   "execution_count": null,
   "id": "23f395e8",
   "metadata": {},
   "outputs": [],
   "source": []
  },
  {
   "cell_type": "code",
   "execution_count": 1,
   "id": "1137f8ab",
   "metadata": {},
   "outputs": [
    {
     "name": "stdout",
     "output_type": "stream",
     "text": [
      "(352, 32632)\n"
     ]
    }
   ],
   "source": [
    "import numpy as np\n",
    "\n",
    "NUM_EL = 15\n",
    "alpha = 0.2\n",
    "\n",
    "\n",
    "relevance_matrix = np.loadtxt(\"relevance_matrix.txt\").T\n",
    "print(relevance_matrix.shape)\n",
    "\n",
    "rm_threshold = relevance_matrix > alpha\n",
    "abstract_threshold_count = np.sum(rm_threshold, axis=0)\n",
    "max_threshold_count = max(abstract_threshold_count)\n",
    "abstract_weight = max_threshold_count / abstract_threshold_count\n",
    "W = np.diag(abstract_weight)\n"
   ]
  },
  {
   "cell_type": "code",
   "execution_count": 8,
   "id": "f468f2bc",
   "metadata": {},
   "outputs": [],
   "source": [
    "rm_threshold = relevance_matrix > 0.33\n",
    "abstract_threshold_count = np.sum(rm_threshold, axis=0)"
   ]
  },
  {
   "cell_type": "code",
   "execution_count": 9,
   "id": "e2f64cec",
   "metadata": {},
   "outputs": [
    {
     "data": {
      "text/plain": [
       "array([ 7, 13, 19, ...,  8,  4,  3])"
      ]
     },
     "execution_count": 9,
     "metadata": {},
     "output_type": "execute_result"
    }
   ],
   "source": [
    "abstract_threshold_count"
   ]
  },
  {
   "cell_type": "code",
   "execution_count": 10,
   "id": "59b617a5",
   "metadata": {},
   "outputs": [
    {
     "data": {
      "text/plain": [
       "(0, 37)"
      ]
     },
     "execution_count": 10,
     "metadata": {},
     "output_type": "execute_result"
    }
   ],
   "source": [
    "np.min(abstract_threshold_count), np.max(abstract_threshold_count)"
   ]
  },
  {
   "cell_type": "code",
   "execution_count": 11,
   "id": "b1f36ee2",
   "metadata": {},
   "outputs": [
    {
     "data": {
      "text/plain": [
       "145"
      ]
     },
     "execution_count": 11,
     "metadata": {},
     "output_type": "execute_result"
    }
   ],
   "source": [
    "np.sum(abstract_threshold_count == 0)"
   ]
  },
  {
   "cell_type": "code",
   "execution_count": 12,
   "id": "01b604f1",
   "metadata": {},
   "outputs": [
    {
     "data": {
      "text/plain": [
       "32632"
      ]
     },
     "execution_count": 12,
     "metadata": {},
     "output_type": "execute_result"
    }
   ],
   "source": [
    "len(abstract_threshold_count)"
   ]
  },
  {
   "cell_type": "code",
   "execution_count": null,
   "id": "41462f26",
   "metadata": {},
   "outputs": [],
   "source": []
  }
 ],
 "metadata": {
  "kernelspec": {
   "display_name": "Python 3",
   "language": "python",
   "name": "python3"
  },
  "language_info": {
   "codemirror_mode": {
    "name": "ipython",
    "version": 3
   },
   "file_extension": ".py",
   "mimetype": "text/x-python",
   "name": "python",
   "nbconvert_exporter": "python",
   "pygments_lexer": "ipython3",
   "version": "3.6.9"
  }
 },
 "nbformat": 4,
 "nbformat_minor": 5
}
