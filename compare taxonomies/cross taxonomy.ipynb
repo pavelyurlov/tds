{
 "cells": [
  {
   "cell_type": "code",
   "execution_count": 1,
   "id": "ff181698",
   "metadata": {},
   "outputs": [],
   "source": [
    "import matplotlib.pyplot as plt\n",
    "import numpy as np\n",
    "%matplotlib inline\n",
    "\n",
    "from operator import itemgetter\n",
    "\n",
    "\n",
    "relevance_cs_to_maths = np.loadtxt(\"relevance_matrix_cs_to_maths_new.txt\")\n",
    "relevance_maths_to_cs = np.loadtxt(\"relevance_matrix_maths_to_cs_new.txt\")\n",
    "\n",
    "with open(\"cs_taxonomy_leaves.txt\") as fn:\n",
    "    cs_leaves = [l.strip() for l in fn]\n",
    "\n",
    "with open(\"maths_taxonomy_leaves_new.txt\") as fn:\n",
    "    maths_leaves = [l.strip() for l in fn]\n",
    "\n"
   ]
  },
  {
   "cell_type": "code",
   "execution_count": 2,
   "id": "3668ef8f",
   "metadata": {},
   "outputs": [
    {
     "data": {
      "text/plain": [
       "((317, 343), (343, 317))"
      ]
     },
     "execution_count": 2,
     "metadata": {},
     "output_type": "execute_result"
    }
   ],
   "source": [
    "relevance_cs_to_maths.shape, relevance_maths_to_cs.shape"
   ]
  },
  {
   "cell_type": "code",
   "execution_count": 3,
   "id": "aeba2c61",
   "metadata": {},
   "outputs": [
    {
     "data": {
      "text/plain": [
       "(317, 343, 108731)"
      ]
     },
     "execution_count": 3,
     "metadata": {},
     "output_type": "execute_result"
    }
   ],
   "source": [
    "n_pairs = len(cs_leaves) * len(maths_leaves)\n",
    "\n",
    "len(cs_leaves), len(maths_leaves), n_pairs\n"
   ]
  },
  {
   "cell_type": "code",
   "execution_count": 4,
   "id": "9be3d8fe",
   "metadata": {},
   "outputs": [
    {
     "data": {
      "text/plain": [
       "(array([  57,  103,  253,  567, 1109, 2240, 3582, 5241, 6243, 7453, 7690,\n",
       "        8054, 7964, 7646, 7012, 6135, 5470, 4590, 4165, 3466, 2912, 2494,\n",
       "        2166, 1824, 1587, 1368, 1172,  929,  771,  691,  586,  455,  357,\n",
       "         335,  257,  241,  195,  163,  160,  130,  108,   95,   94,   64,\n",
       "          59,   43,   44,   36,   34,   32,   32,   17,   11,   15,   18,\n",
       "          15,   11,   12,    7,   10,    6,   10,    9,    6,    8,    8,\n",
       "           5,    8,    5,    5,    4,    3,    7,    3,    6,    6,    5,\n",
       "           2,    2,    3,    1,    4,    1,    2,    4,    3,    2,    2,\n",
       "           2,    0,    1,    1,    2,    2,    2,    0,    0,    0,    0,\n",
       "           1]),\n",
       " array([0.        , 0.00701212, 0.01402425, 0.02103637, 0.0280485 ,\n",
       "        0.03506062, 0.04207275, 0.04908487, 0.056097  , 0.06310912,\n",
       "        0.07012125, 0.07713337, 0.0841455 , 0.09115762, 0.09816975,\n",
       "        0.10518187, 0.112194  , 0.11920612, 0.12621825, 0.13323037,\n",
       "        0.1402425 , 0.14725462, 0.15426674, 0.16127887, 0.16829099,\n",
       "        0.17530312, 0.18231524, 0.18932737, 0.19633949, 0.20335162,\n",
       "        0.21036374, 0.21737587, 0.22438799, 0.23140012, 0.23841224,\n",
       "        0.24542437, 0.25243649, 0.25944862, 0.26646074, 0.27347287,\n",
       "        0.28048499, 0.28749712, 0.29450924, 0.30152136, 0.30853349,\n",
       "        0.31554561, 0.32255774, 0.32956986, 0.33658199, 0.34359411,\n",
       "        0.35060624, 0.35761836, 0.36463049, 0.37164261, 0.37865474,\n",
       "        0.38566686, 0.39267899, 0.39969111, 0.40670324, 0.41371536,\n",
       "        0.42072749, 0.42773961, 0.43475174, 0.44176386, 0.44877598,\n",
       "        0.45578811, 0.46280023, 0.46981236, 0.47682448, 0.48383661,\n",
       "        0.49084873, 0.49786086, 0.50487298, 0.51188511, 0.51889723,\n",
       "        0.52590936, 0.53292148, 0.53993361, 0.54694573, 0.55395786,\n",
       "        0.56096998, 0.56798211, 0.57499423, 0.58200636, 0.58901848,\n",
       "        0.59603061, 0.60304273, 0.61005485, 0.61706698, 0.6240791 ,\n",
       "        0.63109123, 0.63810335, 0.64511548, 0.6521276 , 0.65913973,\n",
       "        0.66615185, 0.67316398, 0.6801761 , 0.68718823, 0.69420035,\n",
       "        0.70121248]))"
      ]
     },
     "execution_count": 4,
     "metadata": {},
     "output_type": "execute_result"
    }
   ],
   "source": [
    "np.histogram(relevance_cs_to_maths.flatten(), bins=100)"
   ]
  },
  {
   "cell_type": "code",
   "execution_count": 5,
   "id": "34efcd54",
   "metadata": {},
   "outputs": [
    {
     "data": {
      "image/png": "[encoded data removed]",
      "text/plain": [
       "<Figure size 864x432 with 1 Axes>"
      ]
     },
     "metadata": {
      "needs_background": "light"
     },
     "output_type": "display_data"
    }
   ],
   "source": [
    "plt.figure(figsize=(12, 6))\n",
    "plt.hist(relevance_cs_to_maths.flatten(), bins=100)\n",
    "plt.title(\"AST-CS\")\n",
    "plt.xlabel(\"CPAMF score\")\n",
    "plt.ylabel(\"#\")\n",
    "plt.savefig(\"hist-ast-cs.png\")\n",
    "plt.show()"
   ]
  },
  {
   "cell_type": "code",
   "execution_count": 20,
   "id": "55cd684a",
   "metadata": {},
   "outputs": [
    {
     "data": {
      "text/plain": [
       "(0.0, 0.7012124764965675)"
      ]
     },
     "execution_count": 20,
     "metadata": {},
     "output_type": "execute_result"
    }
   ],
   "source": [
    "np.min(relevance_cs_to_maths), np.max(relevance_cs_to_maths)"
   ]
  },
  {
   "cell_type": "code",
   "execution_count": 6,
   "id": "3a29bc59",
   "metadata": {},
   "outputs": [
    {
     "data": {
      "text/plain": [
       "0.2708072916666664"
      ]
     },
     "execution_count": 6,
     "metadata": {},
     "output_type": "execute_result"
    }
   ],
   "source": [
    "np.quantile(relevance_cs_to_maths.flatten(), 0.99)"
   ]
  },
  {
   "cell_type": "code",
   "execution_count": 7,
   "id": "96043f7b",
   "metadata": {},
   "outputs": [
    {
     "data": {
      "text/plain": [
       "0.45670051117403593"
      ]
     },
     "execution_count": 7,
     "metadata": {},
     "output_type": "execute_result"
    }
   ],
   "source": [
    "q_top100_1 = np.quantile(relevance_cs_to_maths.flatten(), 1 - 100 / n_pairs)\n",
    "q_top100_1"
   ]
  },
  {
   "cell_type": "code",
   "execution_count": 8,
   "id": "b3898a1f",
   "metadata": {},
   "outputs": [],
   "source": [
    "mask_cs_to_maths = relevance_cs_to_maths > q_top100_1"
   ]
  },
  {
   "cell_type": "code",
   "execution_count": 9,
   "id": "dcd48168",
   "metadata": {},
   "outputs": [
    {
     "data": {
      "text/plain": [
       "100"
      ]
     },
     "execution_count": 9,
     "metadata": {},
     "output_type": "execute_result"
    }
   ],
   "source": [
    "np.sum(mask_cs_to_maths)"
   ]
  },
  {
   "cell_type": "code",
   "execution_count": 10,
   "id": "44225d17",
   "metadata": {
    "scrolled": true
   },
   "outputs": [
    {
     "name": "stdout",
     "output_type": "stream",
     "text": [
      "no\tscore\t Computer Science  -  Mathematics\n",
      "\n",
      "1\t0.70121  distributed data locking  -  distributed\n",
      "2\t0.66415  quantile regression  -  quantile regression\n",
      "3\t0.65982  evolutionary approach  -  evolution\n",
      "4\t0.65625  relational parallel and distributed dbmss  -  distributed\n",
      "5\t0.65549  wikipedia based semantics  -  semantics\n",
      "6\t0.64976  distributed database recovery  -  distributed\n",
      "7\t0.64855  database recovery  -  database\n",
      "8\t0.64145  gaussian processes  -  gaussian processes\n",
      "9\t0.63141  stochastic differential equations  -  differential equations\n",
      "10\t0.62297  decision diagrams  -  decision\n",
      "11\t0.62240  database views  -  database\n",
      "12\t0.61569  sequential decision making  -  decision\n",
      "13\t0.61181  video search  -  search\n",
      "14\t0.60920  theory of database privacy and security  -  database\n",
      "15\t0.60763  relational database model  -  database\n",
      "16\t0.60266  database query languages  -  database\n",
      "17\t0.59776  database interoperability  -  database\n",
      "18\t0.59732  federated databases  -  database\n",
      "19\t0.59464  desktop search  -  search\n",
      "20\t0.59444  image search  -  search\n",
      "21\t0.59288  proximity search  -  search\n",
      "22\t0.59052  cognitive robotics  -  robotics\n",
      "23\t0.58557  top-k retrieval in databases  -  database\n",
      "24\t0.58248  expert search  -  search\n",
      "25\t0.57602  semantic networks  -  semantics\n",
      "26\t0.57313  database constraints theory  -  database\n",
      "27\t0.56968  contingency table analysis  -  contingency tables\n",
      "28\t0.56956  traffic analysis  -  traffic\n",
      "29\t0.56896  distributed database recovery  -  database\n",
      "30\t0.56678  markov decision processes  -  decision\n",
      "31\t0.56026  stochastic differential equations  -  stochastic difference equations\n",
      "32\t0.55968  boolean function learning  -  boolean functions\n",
      "33\t0.55644  graph embedding  -  graph\n",
      "34\t0.55381  enterprise search  -  search\n",
      "35\t0.54804  vagueness and fuzzy logic  -  fuzzy logic logic vagueness\n",
      "36\t0.54481  non-negative matrix factorization  -  factorization matrices\n",
      "37\t0.54236  data scans  -  data\n",
      "38\t0.53964  stochastic differential equations  -  difference equations\n",
      "39\t0.53833  partially-observable markov decision processes  -  decision\n",
      "40\t0.53590  data structures and algorithms for data management  -  data structures\n",
      "41\t0.53514  database query processing and optimization  -  database\n",
      "42\t0.53362  hypothesis testing and confidence interval computation  -  hypothesis testing\n",
      "43\t0.53278  market graph  -  graph\n",
      "44\t0.53247  parallel computation  -  parallel computer\n",
      "45\t0.53058  speech recognition  -  pattern recognition speech recognition\n",
      "46\t0.52910  factor graphs  -  graph\n",
      "47\t0.52888  distribution functions  -  distributed\n",
      "48\t0.52839  statistical graphics  -  graph\n",
      "49\t0.52437  frequent graph mining  -  graph\n",
      "50\t0.52377  nearest-neighbor search  -  search\n",
      "51\t0.52377  unidimensional range search  -  search\n",
      "52\t0.52222  fusion and federated search  -  search\n",
      "53\t0.52213  multidimensional range search  -  search\n",
      "54\t0.52027  theory of database privacy and security  -  privacy data\n",
      "55\t0.51505  semi-structured data  -  data structures\n",
      "56\t0.51496  data exchange  -  data\n",
      "57\t0.51496  data cleaning  -  data\n",
      "58\t0.51097  collaborative search  -  search\n",
      "59\t0.50881  graph drawings  -  graph\n",
      "60\t0.50868  data locking  -  data\n",
      "61\t0.50854  structured text search  -  search\n",
      "62\t0.50843  database views  -  data\n",
      "63\t0.50547  search interfaces  -  search\n",
      "64\t0.50514  geographic visualization  -  graph\n",
      "65\t0.50278  data provenance  -  data\n",
      "66\t0.50278  data warehouses  -  data\n",
      "67\t0.50000  markov decision processes  -  markov semi-markov decision processes\n",
      "68\t0.49346  database recovery  -  data\n",
      "69\t0.49323  multivariate statistics  -  biostatistics\n",
      "70\t0.49094  multivariate statistics  -  multivariate distribution statistics\n",
      "71\t0.49089  data compression  -  data\n",
      "72\t0.48976  database query languages  -  data\n",
      "73\t0.48815  representation  -  knowledge representation\n",
      "74\t0.48683  image representations  -  knowledge representation\n",
      "75\t0.48604  search results deduplication  -  search\n",
      "76\t0.48518  evolutionary approach  -  evolutionary genetic\n",
      "77\t0.48319  multivariate statistics  -  geostatistics\n",
      "78\t0.48223  kernel density estimators  -  density estimation\n",
      "79\t0.47968  web and social media search  -  search\n",
      "80\t0.47757  query representation  -  knowledge representation\n",
      "81\t0.47741  approximate dynamic programming methods  -  approximation\n",
      "82\t0.47676  data modeling  -  data\n",
      "83\t0.47351  nonparametric statistics  -  biostatistics\n",
      "84\t0.47343  markov-chain monte carlo convergence measures  -  monte carlo\n",
      "85\t0.47183  canonical correlation analysis  -  measures association correlation canonical correlation\n",
      "86\t0.47101  transformation and loading  -  linear transformations semilinear transformations\n",
      "87\t0.47081  parallel computation  -  parallel numerical computation\n",
      "88\t0.47049  data streams  -  data\n",
      "89\t0.47033  sequential monte carlo methods  -  monte carlo\n",
      "90\t0.46915  statistical graphics  -  statistical topics\n",
      "91\t0.46840  shape representations  -  knowledge representation\n",
      "92\t0.46732  stochastic games  -  stochastic matrices\n",
      "93\t0.46710  nonparametric statistics  -  geostatistics\n",
      "94\t0.46320  nonparametric statistics  -  statistics on metric spaces\n",
      "95\t0.46207  temporal data  -  data\n",
      "96\t0.46053  shape representations  -  graph intersection representations\n",
      "97\t0.46045  partially-observable markov decision processes  -  markov semi-markov decision processes\n",
      "98\t0.45972  hyperbolic trees  -  trees\n",
      "99\t0.45854  hierarchical representations  -  graph intersection representations\n",
      "100\t0.45850  entity resolution  -  evolution\n"
     ]
    }
   ],
   "source": [
    "sc_to_maths_scores = []\n",
    "for i in range(len(cs_leaves)):\n",
    "    for j in range((len(maths_leaves))):\n",
    "        if mask_cs_to_maths[i][j]:\n",
    "            sc_to_maths_scores.append((relevance_cs_to_maths[i][j], i, j))\n",
    "sc_to_maths_scores = sorted(sc_to_maths_scores, key=lambda x: x[0], reverse=True)\n",
    "\n",
    "print(\"no\\tscore\\t Computer Science  -  Mathematics\\n\")\n",
    "for no, (score, i, j) in enumerate(sc_to_maths_scores):\n",
    "    print(\"{}\\t{:.5f}  {}  -  {}\".format(no+1, score, cs_leaves[i], maths_leaves[j]))\n"
   ]
  },
  {
   "cell_type": "code",
   "execution_count": 32,
   "id": "0ae103e1",
   "metadata": {
    "scrolled": true
   },
   "outputs": [
    {
     "data": {
      "text/plain": [
       "[0.701,\n",
       " 0.664,\n",
       " 0.66,\n",
       " 0.656,\n",
       " 0.655,\n",
       " 0.65,\n",
       " 0.649,\n",
       " 0.641,\n",
       " 0.631,\n",
       " 0.623,\n",
       " 0.622,\n",
       " 0.616,\n",
       " 0.612,\n",
       " 0.609,\n",
       " 0.608,\n",
       " 0.603,\n",
       " 0.598,\n",
       " 0.597,\n",
       " 0.595,\n",
       " 0.594]"
      ]
     },
     "execution_count": 32,
     "metadata": {},
     "output_type": "execute_result"
    }
   ],
   "source": [
    "list(np.round(list(zip(*sc_to_maths_scores))[0], 3)[:20])\n"
   ]
  },
  {
   "cell_type": "code",
   "execution_count": null,
   "id": "39f0558c",
   "metadata": {},
   "outputs": [],
   "source": []
  },
  {
   "cell_type": "code",
   "execution_count": 11,
   "id": "f64feeb9",
   "metadata": {},
   "outputs": [
    {
     "data": {
      "text/plain": [
       "(array([  58,  109,  261,  617, 1334, 2490, 4212, 5620, 6647, 7407, 7870,\n",
       "        7883, 7706, 7390, 6647, 5949, 5286, 4450, 3872, 3329, 2778, 2410,\n",
       "        2104, 1812, 1492, 1292, 1083,  953,  806,  646,  554,  458,  365,\n",
       "         365,  291,  250,  189,  169,  154,  130,  123,  117,   86,   83,\n",
       "          92,   85,   88,   75,   54,   52,   52,   39,   35,   44,   47,\n",
       "          35,   19,   23,   15,   16,   11,   11,   13,   10,    8,    6,\n",
       "           5,    7,    3,    0,    3,    3,    3,    1,    5,    3,    2,\n",
       "           2,    3,    2,    0,    2,    1,    1,    0,    1,    0,    0,\n",
       "           2,    0,    0,    1,    0,    0,    0,    0,    2,    1,    0,\n",
       "           1]),\n",
       " array([0.        , 0.0072844 , 0.0145688 , 0.0218532 , 0.02913759,\n",
       "        0.03642199, 0.04370639, 0.05099079, 0.05827519, 0.06555959,\n",
       "        0.07284398, 0.08012838, 0.08741278, 0.09469718, 0.10198158,\n",
       "        0.10926598, 0.11655038, 0.12383477, 0.13111917, 0.13840357,\n",
       "        0.14568797, 0.15297237, 0.16025677, 0.16754116, 0.17482556,\n",
       "        0.18210996, 0.18939436, 0.19667876, 0.20396316, 0.21124756,\n",
       "        0.21853195, 0.22581635, 0.23310075, 0.24038515, 0.24766955,\n",
       "        0.25495395, 0.26223834, 0.26952274, 0.27680714, 0.28409154,\n",
       "        0.29137594, 0.29866034, 0.30594474, 0.31322913, 0.32051353,\n",
       "        0.32779793, 0.33508233, 0.34236673, 0.34965113, 0.35693552,\n",
       "        0.36421992, 0.37150432, 0.37878872, 0.38607312, 0.39335752,\n",
       "        0.40064192, 0.40792631, 0.41521071, 0.42249511, 0.42977951,\n",
       "        0.43706391, 0.44434831, 0.4516327 , 0.4589171 , 0.4662015 ,\n",
       "        0.4734859 , 0.4807703 , 0.4880547 , 0.49533909, 0.50262349,\n",
       "        0.50990789, 0.51719229, 0.52447669, 0.53176109, 0.53904549,\n",
       "        0.54632988, 0.55361428, 0.56089868, 0.56818308, 0.57546748,\n",
       "        0.58275188, 0.59003627, 0.59732067, 0.60460507, 0.61188947,\n",
       "        0.61917387, 0.62645827, 0.63374267, 0.64102706, 0.64831146,\n",
       "        0.65559586, 0.66288026, 0.67016466, 0.67744906, 0.68473345,\n",
       "        0.69201785, 0.69930225, 0.70658665, 0.71387105, 0.72115545,\n",
       "        0.72843985]))"
      ]
     },
     "execution_count": 11,
     "metadata": {},
     "output_type": "execute_result"
    }
   ],
   "source": [
    "np.histogram(relevance_maths_to_cs.flatten(), bins=100)"
   ]
  },
  {
   "cell_type": "code",
   "execution_count": 12,
   "id": "12dce030",
   "metadata": {},
   "outputs": [
    {
     "data": {
      "image/png": "[encoded data removed]",
      "text/plain": [
       "<Figure size 864x432 with 1 Axes>"
      ]
     },
     "metadata": {
      "needs_background": "light"
     },
     "output_type": "display_data"
    }
   ],
   "source": [
    "plt.figure(figsize=(12, 6))\n",
    "plt.hist(relevance_maths_to_cs.flatten(), bins=100)\n",
    "plt.title(\"AST-M\")\n",
    "plt.xlabel(\"CPAMF score\")\n",
    "plt.ylabel(\"#\")\n",
    "plt.savefig(\"hist-ast-m.png\")\n",
    "plt.show()"
   ]
  },
  {
   "cell_type": "code",
   "execution_count": 21,
   "id": "46118ccc",
   "metadata": {},
   "outputs": [
    {
     "data": {
      "text/plain": [
       "(0.0, 0.7284398455380597)"
      ]
     },
     "execution_count": 21,
     "metadata": {},
     "output_type": "execute_result"
    }
   ],
   "source": [
    "np.min(relevance_maths_to_cs), np.max(relevance_maths_to_cs)"
   ]
  },
  {
   "cell_type": "code",
   "execution_count": 13,
   "id": "d6bc5487",
   "metadata": {},
   "outputs": [
    {
     "data": {
      "text/plain": [
       "0.30322660686539105"
      ]
     },
     "execution_count": 13,
     "metadata": {},
     "output_type": "execute_result"
    }
   ],
   "source": [
    "np.quantile(relevance_maths_to_cs.flatten(), 0.99)\n"
   ]
  },
  {
   "cell_type": "code",
   "execution_count": 14,
   "id": "c296965c",
   "metadata": {},
   "outputs": [
    {
     "data": {
      "text/plain": [
       "0.4477016413847227"
      ]
     },
     "execution_count": 14,
     "metadata": {},
     "output_type": "execute_result"
    }
   ],
   "source": [
    "q_top100_2 = np.quantile(relevance_maths_to_cs.flatten(), 1 - 100 / 317 / 350)\n",
    "q_top100_2"
   ]
  },
  {
   "cell_type": "code",
   "execution_count": 15,
   "id": "c72f0a45",
   "metadata": {},
   "outputs": [],
   "source": [
    "mask_maths_to_cs = relevance_maths_to_cs > q_top100_2"
   ]
  },
  {
   "cell_type": "code",
   "execution_count": 16,
   "id": "9fd8b161",
   "metadata": {},
   "outputs": [
    {
     "data": {
      "text/plain": [
       "98"
      ]
     },
     "execution_count": 16,
     "metadata": {},
     "output_type": "execute_result"
    }
   ],
   "source": [
    "np.sum(mask_maths_to_cs)"
   ]
  },
  {
   "cell_type": "code",
   "execution_count": 17,
   "id": "6ba8bb1b",
   "metadata": {
    "scrolled": true
   },
   "outputs": [
    {
     "name": "stdout",
     "output_type": "stream",
     "text": [
      "no\tscore\t Mathematics  -  Computer Science\n",
      "\n",
      "1\t0.72844  knowledge representation  -  representation\n",
      "2\t0.70990  graph intersection representations  -  representation\n",
      "3\t0.70614  signal characterization reconstruction filtering  -  reconstruction\n",
      "4\t0.69954  image processing compression reconstruction information communication  -  reconstruction\n",
      "5\t0.66415  quantile regression  -  quantile regression\n",
      "6\t0.64281  reasoning under uncertainty  -  uncertainty\n",
      "7\t0.64145  gaussian processes  -  gaussian processes\n",
      "8\t0.62625  multivariate distribution statistics  -  multivariate statistics\n",
      "9\t0.60980  parallel numerical computation  -  parallel computation\n",
      "10\t0.60150  order statistics empirical distribution functions  -  distribution functions\n",
      "11\t0.59366  pattern recognition speech recognition  -  speech recognition\n",
      "12\t0.59340  markov processes hypothesis testing  -  markov processes\n",
      "13\t0.58209  data encryption computer  -  data encryption\n",
      "14\t0.57555  testing survival analysis censored data  -  survival analysis\n",
      "15\t0.57250  fuzziness survival analysis censored data  -  survival analysis\n",
      "16\t0.56993  estimation survival analysis censored data  -  survival analysis\n",
      "17\t0.56931  markov semi-markov decision processes  -  markov processes\n",
      "18\t0.56103  markov processes estimation hidden markov models  -  markov processes\n",
      "19\t0.56102  clustering social behavioral  -  biclustering\n",
      "20\t0.56029  markov semi-markov decision processes  -  markov decision processes\n",
      "21\t0.55918  random number generation numerical analysis  -  random number generation\n",
      "22\t0.55262  knowledge representation  -  image representations\n",
      "23\t0.55210  knowledge representation  -  query representation\n",
      "24\t0.54904  ranking selection procedures  -  ranking\n",
      "25\t0.54549  numerical optimization variational techniques  -  query optimization\n",
      "26\t0.54400  graph intersection representations  -  shape representations\n",
      "27\t0.54224  markov chains discrete-time markov processes on discrete state spaces  -  markov processes\n",
      "28\t0.54124  stochastic difference equations  -  stochastic differential equations\n",
      "29\t0.54059  discrete-time markov processes on general state spaces  -  markov processes\n",
      "30\t0.53841  graph intersection representations  -  query representation\n",
      "31\t0.53003  graph intersection representations  -  image representations\n",
      "32\t0.52866  knowledge representation  -  shape representations\n",
      "33\t0.52490  classification discrimination cluster analysis statistical mixture models  -  cluster analysis\n",
      "34\t0.52413  fuzziness connection with statistical distributions  -  distribution functions\n",
      "35\t0.52222  economic time series analysis  -  time series analysis\n",
      "36\t0.52011  graph graph drawing computer  -  graph drawings\n",
      "37\t0.51283  identification stochastic control  -  object identification\n",
      "38\t0.51145  coding information compaction compression models communication encoding  -  data compression\n",
      "39\t0.51096  factor analysis principal components correspondence analysis  -  factor analysis\n",
      "40\t0.50246  bootstrap jackknife resampling  -  jackknifing\n",
      "41\t0.50166  stochastic matrices  -  stochastic games\n",
      "42\t0.49958  coding information compaction compression models communication encoding  -  information extraction\n",
      "43\t0.49374  boolean functions  -  boolean function learning\n",
      "44\t0.49244  detection information communication  -  information extraction\n",
      "45\t0.49243  fuzzy logic logic vagueness  -  vagueness and fuzzy logic\n",
      "46\t0.49137  image processing compression reconstruction information communication  -  data compression\n",
      "47\t0.49095  numerical low-rank matrix approximation matrix compression  -  data compression\n",
      "48\t0.48894  estimation multivariate analysis  -  multivariate statistics\n",
      "49\t0.48840  medical applications  -  deduplication\n",
      "50\t0.48738  bootstrap jackknife resampling  -  bootstrapping\n",
      "51\t0.48611  exact distribution statistics  -  distribution functions\n",
      "52\t0.48500  approximations statistical distributions nonasymptotic  -  distribution functions\n",
      "53\t0.48247  orthogonalization numerical linear algebra  -  personalization\n",
      "54\t0.48238  characterization structure statistical distributions  -  distribution functions\n",
      "55\t0.48022  classification discrimination cluster analysis statistical mixture models  -  clustering and classification\n",
      "56\t0.47909  hypothesis testing multivariate analysis  -  multivariate statistics\n",
      "57\t0.47728  differential equations  -  stochastic differential equations\n",
      "58\t0.47649  image processing compression reconstruction information communication  -  information extraction\n",
      "59\t0.47543  one- multidimensional scaling social behavioral  -  multidimensional range search\n",
      "60\t0.47409  packing covering  -  tracking\n",
      "61\t0.47229  pattern recognition speech recognition  -  object recognition\n",
      "62\t0.46952  factorial statistical designs  -  factorial hmm\n",
      "63\t0.46796  climate climate modeling  -  data modeling\n",
      "64\t0.46791  information systems hypertext navigation interfaces decision support  -  information extraction\n",
      "65\t0.46778  stochastic programming  -  stochastic games\n",
      "66\t0.46698  classification discrimination cluster analysis statistical mixture models  -  mixture models\n",
      "67\t0.46696  computational learning  -  q-learning\n",
      "68\t0.46663  geometric probability stochastic geometry  -  stochastic games\n",
      "69\t0.46492  statistics on metric spaces  -  nonparametric statistics\n",
      "70\t0.46408  edge subsets factorization matching partitioning covering packing  -  graph partitioning\n",
      "71\t0.46378  probabilistic graphical models  -  probabilistic retrieval models\n",
      "72\t0.46292  combinatorial optimization  -  query optimization\n",
      "73\t0.46219  multivariate distribution statistics  -  distribution functions\n",
      "74\t0.46214  applications generalized inverses  -  deduplication\n",
      "75\t0.46144  measures association correlation canonical correlation  -  canonical correlation analysis\n",
      "76\t0.46111  climate climate modeling  -  modelling\n",
      "77\t0.45992  stochastic network models  -  network data models\n",
      "78\t0.45902  factor analysis principal components correspondence analysis  -  independent component analysis\n",
      "79\t0.45860  modulation demodulation information communication  -  information extraction\n",
      "80\t0.45819  applications set  -  deduplication\n",
      "81\t0.45632  stochastic network models  -  stochastic games\n",
      "82\t0.45593  probabilistic graphical models  -  probabilistic algorithms\n",
      "83\t0.45546  inference from stochastic processes fuzziness  -  stochastic games\n",
      "84\t0.45502  least squares stochastic control systems  -  stochastic games\n",
      "85\t0.45468  characterization structure multivariate probability distributions copulas  -  distribution functions\n",
      "86\t0.45465  ranking selection procedures  -  feature selection\n",
      "87\t0.45404  image processing  -  process mining\n",
      "88\t0.45309  pattern recognition speech recognition  -  speech\n",
      "89\t0.45276  natural language processing  -  process mining\n",
      "90\t0.45262  bayesian inference  -  shape inference\n",
      "91\t0.45203  linear transformations semilinear transformations  -  transformation and loading\n",
      "92\t0.45097  numerical functional-differential equations  -  stochastic differential equations\n",
      "93\t0.45068  computational learning  -  parallel computation\n",
      "94\t0.44954  asymptotic distribution statistics  -  distribution functions\n",
      "95\t0.44849  parallel computer  -  parallel computation\n",
      "96\t0.44834  stochastic scheduling  -  stochastic games\n",
      "97\t0.44823  inference from stochastic processes spectral analysis  -  stochastic games\n",
      "98\t0.44789  detection information communication  -  object detection\n"
     ]
    }
   ],
   "source": [
    "maths_to_cs_scores = []\n",
    "for i in range(len(maths_leaves)):\n",
    "    for j in range((len(cs_leaves))):\n",
    "        if mask_maths_to_cs[i][j]:\n",
    "            maths_to_cs_scores.append((relevance_maths_to_cs[i][j], i, j))\n",
    "maths_to_cs_scores = sorted(maths_to_cs_scores, key=lambda x: x[0], reverse=True)\n",
    "\n",
    "print(\"no\\tscore\\t Mathematics  -  Computer Science\\n\")\n",
    "for no, (score, i, j) in enumerate(maths_to_cs_scores):\n",
    "    print(\"{}\\t{:.5f}  {}  -  {}\".format(no+1, score, maths_leaves[i], cs_leaves[j]))\n"
   ]
  },
  {
   "cell_type": "code",
   "execution_count": 33,
   "id": "cefef175",
   "metadata": {},
   "outputs": [
    {
     "data": {
      "text/plain": [
       "[0.728,\n",
       " 0.71,\n",
       " 0.706,\n",
       " 0.7,\n",
       " 0.664,\n",
       " 0.643,\n",
       " 0.641,\n",
       " 0.626,\n",
       " 0.61,\n",
       " 0.601,\n",
       " 0.594,\n",
       " 0.593,\n",
       " 0.582,\n",
       " 0.576,\n",
       " 0.572,\n",
       " 0.57,\n",
       " 0.569,\n",
       " 0.561,\n",
       " 0.561,\n",
       " 0.56]"
      ]
     },
     "execution_count": 33,
     "metadata": {},
     "output_type": "execute_result"
    }
   ],
   "source": [
    "list(np.round(list(zip(*maths_to_cs_scores))[0], 3)[:20])\n"
   ]
  },
  {
   "cell_type": "code",
   "execution_count": null,
   "id": "bf4b6891",
   "metadata": {},
   "outputs": [],
   "source": []
  }
 ],
 "metadata": {
  "kernelspec": {
   "display_name": "Python 3",
   "language": "python",
   "name": "python3"
  },
  "language_info": {
   "codemirror_mode": {
    "name": "ipython",
    "version": 3
   },
   "file_extension": ".py",
   "mimetype": "text/x-python",
   "name": "python",
   "nbconvert_exporter": "python",
   "pygments_lexer": "ipython3",
   "version": "3.6.9"
  }
 },
 "nbformat": 4,
 "nbformat_minor": 5
}
