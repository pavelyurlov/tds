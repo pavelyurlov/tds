{
 "cells": [
  {
   "cell_type": "code",
   "execution_count": 4,
   "id": "664ac09b",
   "metadata": {},
   "outputs": [],
   "source": [
    "with open(\"taxonomy_leaves.txt\") as fn:\n",
    "    annotations = [l.strip() for l in fn]"
   ]
  },
  {
   "cell_type": "code",
   "execution_count": 5,
   "id": "d739382f",
   "metadata": {},
   "outputs": [
    {
     "data": {
      "text/plain": [
       "(317, 317)"
      ]
     },
     "execution_count": 5,
     "metadata": {},
     "output_type": "execute_result"
    }
   ],
   "source": [
    "len(annotations), len(set(annotations))"
   ]
  },
  {
   "cell_type": "code",
   "execution_count": 6,
   "id": "86870166",
   "metadata": {
    "scrolled": true
   },
   "outputs": [
    {
     "name": "stdout",
     "output_type": "stream",
     "text": [
      "(317, 317)\n",
      "Cluster contribution is too small\n",
      "(317, 14)\n",
      "CLUSTER 1:\n",
      "\n",
      "[('query representation', 0.949), ('distributed database recovery', 0.295), ('data locking', 0.108), ('reinforcement learning theory', 0.005), ('web log analysis', 0.004), ('multi-agent learning', 0.003), ('language models', 0.003), ('learning to rank', 0.003), ('supervised learning by classification', 0.003), ('active learning', 0.002), ('network data models', 0.002), ('document structure', 0.002), ('video segmentation', 0.002), ('topic modeling', 0.002), ('online learning settings', 0.002)]\n",
      "\n",
      "\n",
      "\n",
      "CLUSTER 2:\n",
      "\n",
      "[('active learning settings', 0.647), ('online learning theory', 0.535), ('multi-agent reinforcement learning', 0.518), ('query learning', 0.143), ('inverse reinforcement learning', 0.046), ('learning to rank', 0.036), ('mixture modeling', 0.02), ('lifelong machine learning', 0.017), ('statistical relational learning', 0.015), ('object detection', 0.014), ('speech recognition', 0.013), ('online analytical processing engines', 0.012), ('test collections', 0.011), ('video segmentation', 0.011), ('learning from critiques', 0.011)]\n",
      "\n",
      "\n",
      "\n",
      "CLUSTER 3:\n",
      "\n",
      "[('hierarchical representations', 0.667), ('mixture models', 0.505), ('data modeling', 0.379), ('image segmentation', 0.235), ('document collection models', 0.151), ('video search', 0.126), ('probabilistic reasoning', 0.109), ('bayesian network models', 0.108), ('topic modeling', 0.105), ('top-k retrieval in databases', 0.068), ('relational parallel and distributed dbmss', 0.066), ('structured query language', 0.062), ('temporal data', 0.059), ('probabilistic algorithms', 0.031), ('semi-supervised learning', 0.028)]\n",
      "\n",
      "\n",
      "\n",
      "CLUSTER 4:\n",
      "\n",
      "[('web log analysis', 0.336), ('factor analysis', 0.333), ('cluster analysis', 0.318), ('bayesian analysis', 0.302), ('query log analysis', 0.298), ('survival analysis', 0.292), ('traffic analysis', 0.272), ('time series analysis', 0.254), ('sentiment analysis', 0.245), ('formal concept analysis', 0.199), ('exploratory data analysis', 0.192), ('contingency table analysis', 0.165), ('independent component analysis', 0.163), ('canonical correlation analysis', 0.146), ('visual analytics', 0.117)]\n",
      "\n",
      "\n",
      "\n",
      "CLUSTER 5:\n",
      "\n",
      "[('supervised learning by regression', 0.866), ('biclustering', 0.264), ('representation', 0.136), ('speech recognition', 0.128), ('object detection', 0.124), ('bayesian analysis', 0.123), ('data structures and algorithms for data management', 0.123), ('top-k retrieval in databases', 0.108), ('probabilistic retrieval models', 0.101), ('feature selection', 0.074), ('shape inference', 0.066), ('fusion and federated search', 0.058), ('inductive logic learning', 0.058), ('semantic networks', 0.057), ('equational models', 0.056)]\n",
      "\n",
      "\n",
      "\n",
      "CLUSTER 6:\n",
      "\n",
      "[('phonology', 0.596), ('ontologies', 0.59), ('ontology engineering', 0.251), ('description logics', 0.223), ('vagueness and fuzzy logic', 0.163), ('probabilistic algorithms', 0.107), ('probabilistic reasoning', 0.104), ('probabilistic retrieval models', 0.092), ('multiresolution', 0.085), ('deduplication', 0.082), ('information visualization', 0.078), ('entity resolution', 0.072), ('dialogue and pragmatics', 0.068), ('evolutionary approach', 0.063), ('clustering and classification', 0.062)]\n",
      "\n",
      "\n",
      "\n",
      "CLUSTER 7:\n",
      "\n",
      "[('point lookups', 0.812), ('deadlocks', 0.286), ('record and block layout', 0.156), ('interest point and salient region detections', 0.128), ('record and buffer management', 0.121), ('surfacing', 0.103), ('transformation and loading', 0.097), ('data compression', 0.093), ('visualization design and evaluation methods', 0.087), ('key-value stores', 0.086), ('stochastic differential equations', 0.082), ('exploratory data analysis', 0.082), ('join algorithms', 0.082), ('computing most probable explanation', 0.08), ('nearest-neighbor search', 0.076)]\n",
      "\n",
      "\n",
      "\n",
      "CLUSTER 8:\n",
      "\n",
      "[('distributed database recovery', 0.901), ('data locking', 0.336), ('representation', 0.255), ('xquery', 0.051), ('query log analysis', 0.039), ('reinforcement learning theory', 0.036), ('active learning settings', 0.036), ('multi-agent learning', 0.032), ('mixture modeling', 0.019), ('network data models', 0.017), ('graph based conceptual clustering', 0.015), ('database query languages', 0.014), ('structured query language', 0.014), ('online analytical processing engines', 0.013), ('inductive logic learning', 0.013)]\n",
      "\n",
      "\n",
      "\n",
      "CLUSTER 9:\n",
      "\n",
      "[('structured outputs', 0.357), ('join algorithms', 0.343), ('document structure', 0.315), ('semi-structured data', 0.312), ('structured prediction', 0.289), ('structured text search', 0.26), ('reconstruction', 0.255), ('probabilistic algorithms', 0.241), ('structured query language', 0.235), ('data structures and algorithms for data management', 0.223), ('perceptron algorithm', 0.222), ('metropolis-hastings algorithm', 0.163), ('mixture modeling', 0.11), ('task models', 0.097), ('mixture models', 0.087)]\n",
      "\n",
      "\n",
      "\n",
      "CLUSTER 10:\n",
      "\n",
      "[('query learning', 0.817), ('bayesian network models', 0.297), ('relational parallel and distributed dbmss', 0.222), ('graph based conceptual clustering', 0.137), ('online learning settings', 0.126), ('document topic models', 0.123), ('factor analysis', 0.123), ('clustering and classification', 0.119), ('bayesian computation', 0.111), ('video segmentation', 0.111), ('active learning', 0.103), ('supervised dimesionality reduction', 0.099), ('data modeling', 0.097), ('multi-agent reinforcement learning', 0.092), ('test collections', 0.082)]\n",
      "\n",
      "\n",
      "\n",
      "CLUSTER 11:\n",
      "\n",
      "[('knowledge discovery', 0.58), ('motif discovery', 0.321), ('object recognition', 0.295), ('speech recognition', 0.274), ('robust regression', 0.251), ('rule and pattern discovery', 0.211), ('cognitive robotics', 0.21), ('quantile regression', 0.195), ('regret bounds', 0.157), ('database recovery', 0.147), ('data compression', 0.142), ('language models', 0.108), ('speech', 0.101), ('mapreduce languages', 0.098), ('sample complexity and generalization bounds', 0.086)]\n",
      "\n",
      "\n",
      "\n",
      "CLUSTER 12:\n",
      "\n",
      "[('markov networks', 0.412), ('causal networks', 0.394), ('bayesian networks', 0.391), ('semantic networks', 0.33), ('deep belief networks', 0.325), ('network data models', 0.209), ('bayesian network models', 0.203), ('query optimization', 0.16), ('join algorithms', 0.148), ('personalization', 0.105), ('summarization', 0.105), ('perceptron algorithm', 0.105), ('bayesian computation', 0.099), ('probabilistic algorithms', 0.097), ('expectation maximization', 0.092)]\n",
      "\n",
      "\n",
      "\n",
      "CLUSTER 13:\n",
      "\n",
      "[('kernel approach', 0.55), ('neuro-fuzzy approach', 0.468), ('evolutionary approach', 0.425), ('markov processes', 0.128), ('item-based', 0.127), ('approximate dynamic programming methods', 0.122), ('database query processing and optimization', 0.12), ('process mining', 0.12), ('language models', 0.119), ('clustering and classification', 0.117), ('database query languages', 0.113), ('fusion of classifiers', 0.112), ('language resources', 0.11), ('supervised learning by classification', 0.105), ('gaussian processes', 0.105)]\n",
      "\n",
      "\n",
      "\n",
      "CLUSTER 14:\n",
      "\n",
      "[('tracking', 0.453), ('ranking', 0.429), ('probabilistic reasoning', 0.263), ('sequential decision making', 0.254), ('probabilistic retrieval models', 0.224), ('distributed data locking', 0.203), ('data locking', 0.196), ('integrity checking', 0.189), ('decision diagrams', 0.181), ('object recognition', 0.162), ('speech recognition', 0.153), ('probabilistic algorithms', 0.15), ('recommender systems', 0.149), ('database interoperability', 0.119), ('visualization toolkits', 0.111)]\n",
      "\n",
      "\n",
      "\n"
     ]
    }
   ],
   "source": [
    "import numpy as np\n",
    "from lapin import lapin\n",
    "from faddis_zhirayr import faddis\n",
    "\n",
    "from operator import itemgetter\n",
    "\n",
    "NUM_EL = 15\n",
    "alpha = 0.2\n",
    "\n",
    "\n",
    "if __name__ == \"__main__\":\n",
    "    tc = np.loadtxt(\"corelevance_matrix.txt\")\n",
    "    print(tc.shape)\n",
    "\n",
    "    tc_transformed = lapin(tc)\n",
    "    B, member, contrib, intensity, lat, tt = faddis(tc_transformed)\n",
    "    np.savetxt(\"clusters.dat\", member)\n",
    "    print(member.shape)\n",
    "\n",
    "    with open(\"taxonomy_leaves.txt\") as fn:\n",
    "        annotations = [l.strip() for l in fn]\n",
    "\n",
    "    for i, cluster in enumerate(np.round(member.T, 3)):\n",
    "        print(\"CLUSTER {}:\\n\".format(i + 1))\n",
    "        print(list(sorted(zip(annotations, cluster.flat),\n",
    "                          key=itemgetter(1), reverse=True))[:NUM_EL])\n",
    "        print(\"\\n\\n\")"
   ]
  },
  {
   "cell_type": "code",
   "execution_count": null,
   "id": "32cd87c4",
   "metadata": {},
   "outputs": [],
   "source": []
  },
  {
   "cell_type": "code",
   "execution_count": 2,
   "id": "3a6bc042",
   "metadata": {},
   "outputs": [
    {
     "data": {
      "text/plain": [
       "array([0.0031149 , 0.00300115, 0.00290139, 0.00277625, 0.00269503,\n",
       "       0.00263296, 0.00255424, 0.0025022 , 0.00244303, 0.00240134,\n",
       "       0.00231523, 0.00223002, 0.00207853, 0.00199784])"
      ]
     },
     "execution_count": 2,
     "metadata": {},
     "output_type": "execute_result"
    }
   ],
   "source": [
    "contrib"
   ]
  },
  {
   "cell_type": "code",
   "execution_count": 3,
   "id": "3809ea94",
   "metadata": {
    "scrolled": true
   },
   "outputs": [
    {
     "data": {
      "text/plain": [
       "matrix([[0.9962047 , 0.9924238 ],\n",
       "        [0.98698267, 0.9741348 ],\n",
       "        [0.97867627, 0.95780724],\n",
       "        [0.96794869, 0.93692466],\n",
       "        [0.96078993, 0.92311729],\n",
       "        [0.95520918, 0.91242458],\n",
       "        [0.94798803, 0.89868131],\n",
       "        [0.9431225 , 0.88948004],\n",
       "        [0.93749677, 0.87890019],\n",
       "        [0.93347154, 0.87136911],\n",
       "        [0.92498823, 0.85560322],\n",
       "        [0.91635705, 0.83971024],\n",
       "        [0.90038153, 0.81068691],\n",
       "        [0.89151254, 0.79479461]])"
      ]
     },
     "execution_count": 3,
     "metadata": {},
     "output_type": "execute_result"
    }
   ],
   "source": [
    "intensity"
   ]
  },
  {
   "cell_type": "code",
   "execution_count": 4,
   "id": "5be616f6",
   "metadata": {},
   "outputs": [
    {
     "data": {
      "text/plain": [
       "array([1.00000002, 1.00000015, 1.00000032, 1.005582  , 1.0000049 ,\n",
       "       1.00110879, 1.00019845, 1.00000003, 1.00313359, 1.00000098,\n",
       "       1.00099506, 1.00378217, 1.00178688, 1.00090281])"
      ]
     },
     "execution_count": 4,
     "metadata": {},
     "output_type": "execute_result"
    }
   ],
   "source": [
    "lat"
   ]
  },
  {
   "cell_type": "code",
   "execution_count": 5,
   "id": "f5ae5b9c",
   "metadata": {},
   "outputs": [
    {
     "data": {
      "text/plain": [
       "array([[2305.0814415 , 3051.74081109, 2419.97985005, ..., 2702.02572888,\n",
       "        1833.74858063, 2071.55138414],\n",
       "       [3051.74081109, 4458.59457895, 3484.23240944, ..., 3903.01060014,\n",
       "        2493.31161151, 2957.11046645],\n",
       "       [2419.97985005, 3484.23240944, 2935.31079589, ..., 3104.19581913,\n",
       "        1979.45360701, 2357.2419839 ],\n",
       "       ...,\n",
       "       [2702.02572888, 3903.01060014, 3104.19581913, ..., 3791.35716949,\n",
       "        2209.7986961 , 2656.0674004 ],\n",
       "       [1833.74858063, 2493.31161151, 1979.45360701, ..., 2209.7986961 ,\n",
       "        1662.18167924, 1706.75366935],\n",
       "       [2071.55138414, 2957.11046645, 2357.2419839 , ..., 2656.0674004 ,\n",
       "        1706.75366935, 2254.21414074]])"
      ]
     },
     "execution_count": 5,
     "metadata": {},
     "output_type": "execute_result"
    }
   ],
   "source": [
    "tc"
   ]
  },
  {
   "cell_type": "code",
   "execution_count": 6,
   "id": "3d6f004d",
   "metadata": {
    "scrolled": true
   },
   "outputs": [
    {
     "data": {
      "text/plain": [
       "array([6.14806125e+05, 2.94476028e+03, 2.74563326e+03, 2.62436189e+03,\n",
       "       2.02967532e+03, 1.92706980e+03, 1.85074257e+03, 1.82368666e+03,\n",
       "       1.43701574e+03, 1.35390206e+03, 1.12456386e+03, 1.05698324e+03,\n",
       "       1.02216606e+03, 9.76450849e+02, 8.84878841e+02, 8.15280263e+02,\n",
       "       7.81835859e+02, 7.31321415e+02, 7.14352494e+02, 6.82892432e+02,\n",
       "       6.71866106e+02, 5.72060566e+02, 5.56350591e+02, 5.48160323e+02,\n",
       "       5.36251179e+02, 5.22039841e+02, 5.00172882e+02, 4.87716133e+02,\n",
       "       4.65557050e+02, 4.55694087e+02, 4.43543852e+02, 4.33244907e+02,\n",
       "       4.19490312e+02, 4.14999532e+02, 4.05246632e+02, 3.98248694e+02,\n",
       "       3.80761613e+02, 3.62362772e+02, 3.52562176e+02, 3.35754934e+02,\n",
       "       3.29620694e+02, 3.26763627e+02, 3.05827061e+02, 3.00701110e+02,\n",
       "       2.89714853e+02, 2.88189012e+02, 2.83014895e+02, 2.73388672e+02,\n",
       "       2.67739992e+02, 2.57634808e+02, 2.54888677e+02, 2.50398648e+02,\n",
       "       2.43121980e+02, 2.41566665e+02, 2.34832228e+02, 2.29120968e+02,\n",
       "       2.20286258e+02, 2.12522593e+02, 2.09928409e+02, 2.04881500e+02,\n",
       "       2.01852029e+02, 1.89655247e+02, 1.86513082e+02, 1.83484721e+02,\n",
       "       1.79258211e+02, 1.78265291e+02, 1.71424979e+02, 1.70645412e+02,\n",
       "       1.68346423e+02, 1.65373630e+02, 1.60092970e+02, 1.53086065e+02,\n",
       "       1.52542371e+02, 1.47842398e+02, 1.45042778e+02, 1.41930890e+02,\n",
       "       1.39895481e+02, 1.37987912e+02, 1.33927936e+02, 1.32305673e+02,\n",
       "       1.30938932e+02, 1.28719933e+02, 1.25681126e+02, 1.24507199e+02,\n",
       "       1.21838201e+02, 1.19968375e+02, 1.19133346e+02, 1.14951716e+02,\n",
       "       1.13760911e+02, 1.11920236e+02, 1.09869731e+02, 1.07597962e+02,\n",
       "       1.06524640e+02, 1.01920269e+02, 9.98707829e+01, 9.80796010e+01,\n",
       "       9.78396023e+01, 9.50795757e+01, 9.34594973e+01, 9.26846929e+01,\n",
       "       9.12287713e+01, 9.07045252e+01, 8.83778975e+01, 8.75882899e+01,\n",
       "       8.53037217e+01, 8.41466367e+01, 8.32367864e+01, 8.15718446e+01,\n",
       "       8.09213380e+01, 7.95141458e+01, 7.86664560e+01, 7.76084876e+01,\n",
       "       7.65046695e+01, 7.46162052e+01, 7.37448621e+01, 7.25739519e+01,\n",
       "       7.22895896e+01, 6.96003449e+01, 6.87249424e+01, 6.78588377e+01,\n",
       "       6.67594293e+01, 6.61916528e+01, 6.42873524e+01, 6.36411215e+01,\n",
       "       6.17756404e+01, 6.07659651e+01, 6.00010147e+01, 5.97491601e+01,\n",
       "       5.89978619e+01, 5.79447247e+01, 5.74460612e+01, 5.65206632e+01,\n",
       "       5.57526521e+01, 5.43401390e+01, 5.38697707e+01, 5.31063967e+01,\n",
       "       5.22010377e+01, 5.09909298e+01, 5.07337616e+01, 4.95372336e+01,\n",
       "       4.85049539e+01, 4.78597704e+01, 4.73757731e+01, 4.73357529e+01,\n",
       "       4.65762425e+01, 4.55323629e+01, 4.51842723e+01, 4.47998622e+01,\n",
       "       4.43634933e+01, 4.26059680e+01, 4.21386414e+01, 4.12191469e+01,\n",
       "       4.07362028e+01, 4.02199672e+01, 3.89196703e+01, 3.87013754e+01,\n",
       "       3.83971259e+01, 3.81791014e+01, 3.78641856e+01, 3.69118510e+01,\n",
       "       3.66746637e+01, 3.58613484e+01, 3.56635554e+01, 3.51397224e+01,\n",
       "       3.47484479e+01, 3.43249813e+01, 3.37205630e+01, 3.28341871e+01,\n",
       "       3.24407279e+01, 3.19372605e+01, 3.17068997e+01, 3.08770185e+01,\n",
       "       3.02821983e+01, 3.00253397e+01, 2.98186030e+01, 2.95465496e+01,\n",
       "       2.87084724e+01, 2.86666532e+01, 2.83080141e+01, 2.78715905e+01,\n",
       "       2.72510918e+01, 2.71091570e+01, 2.64351850e+01, 2.62638583e+01,\n",
       "       2.57579236e+01, 2.56984931e+01, 2.56320826e+01, 2.51764144e+01,\n",
       "       2.47393260e+01, 2.44153631e+01, 2.40815847e+01, 2.36187292e+01,\n",
       "       2.33302726e+01, 2.30137321e+01, 2.28977692e+01, 2.22882775e+01,\n",
       "       2.20095505e+01, 2.16102919e+01, 2.11886106e+01, 2.08597428e+01,\n",
       "       2.05234832e+01, 2.03897990e+01, 2.01691654e+01, 1.98571962e+01,\n",
       "       1.94065216e+01, 1.93448882e+01, 1.88773487e+01, 1.86359375e+01,\n",
       "       1.85487400e+01, 1.82151648e+01, 1.78239149e+01, 1.75132392e+01,\n",
       "       1.71804288e+01, 1.68924124e+01, 1.65386298e+01, 1.63006660e+01,\n",
       "       1.60551167e+01, 1.58379405e+01, 1.55748589e+01, 1.52424320e+01,\n",
       "       1.51235934e+01, 1.50502908e+01, 1.48411920e+01, 1.43484480e+01,\n",
       "       1.40691939e+01, 1.38010053e+01, 1.36203629e+01, 1.33493154e+01,\n",
       "       1.33155594e+01, 1.31462128e+01, 1.30205576e+01, 1.25633997e+01,\n",
       "       1.24979640e+01, 1.22082776e+01, 1.21065685e+01, 1.19573856e+01,\n",
       "       1.13127724e+01, 1.10714218e+01, 1.08833295e+01, 1.07974826e+01,\n",
       "       1.06261932e+01, 1.05331527e+01, 1.03841068e+01, 1.02282325e+01,\n",
       "       9.96082217e+00, 9.80922068e+00, 9.68602367e+00, 9.44173995e+00,\n",
       "       9.33434563e+00, 9.05809259e+00, 8.97245191e+00, 8.81080723e+00,\n",
       "       8.55497725e+00, 8.41878417e+00, 8.07301003e+00, 7.94037762e+00,\n",
       "       7.77402735e+00, 7.51317202e+00, 7.26693492e+00, 7.15530330e+00,\n",
       "       7.07224188e+00, 6.87262245e+00, 6.67877172e+00, 6.46117300e+00,\n",
       "       6.20949224e+00, 6.14265223e+00, 6.00184924e+00, 5.88249841e+00,\n",
       "       5.66769803e+00, 5.55543738e+00, 5.36044074e+00, 5.19371557e+00,\n",
       "       5.09006634e+00, 4.86055309e+00, 4.75606390e+00, 4.52383784e+00,\n",
       "       4.31845709e+00, 4.31600916e+00, 4.15282715e+00, 3.94254696e+00,\n",
       "       3.71263681e+00, 3.61886173e+00, 3.57852729e+00, 3.41651917e+00,\n",
       "       3.32940197e+00, 3.25101694e+00, 3.13055703e+00, 2.95278821e+00,\n",
       "       2.84003495e+00, 2.62049281e+00, 2.53813265e+00, 2.42502075e+00,\n",
       "       2.31707403e+00, 2.20081352e+00, 2.00552330e+00, 1.95158917e+00,\n",
       "       1.80356000e+00, 1.74753818e+00, 1.58524070e+00, 1.49081569e+00,\n",
       "       1.40310351e+00, 1.36841770e+00, 1.12886016e+00, 1.07794898e+00,\n",
       "       1.03749345e+00, 9.37205129e-01, 8.95716134e-01, 7.87513330e-01,\n",
       "       7.01181709e-01, 6.16462879e-01, 5.55145691e-01, 3.90137999e-01,\n",
       "       3.79380354e-01, 1.92663897e-01, 1.28277305e-01, 1.31590489e-02,\n",
       "       3.79006210e-13])"
      ]
     },
     "execution_count": 6,
     "metadata": {},
     "output_type": "execute_result"
    }
   ],
   "source": [
    "np.linalg.eigh(tc)[0][::-1]"
   ]
  },
  {
   "cell_type": "code",
   "execution_count": 7,
   "id": "6c8fd4a8",
   "metadata": {},
   "outputs": [
    {
     "data": {
      "text/plain": [
       "1.622153172632381e+18"
      ]
     },
     "execution_count": 7,
     "metadata": {},
     "output_type": "execute_result"
    }
   ],
   "source": [
    "np.linalg.eigh(tc)[0][::-1][0] / np.linalg.eigh(tc)[0][::-1][-1]"
   ]
  },
  {
   "cell_type": "code",
   "execution_count": null,
   "id": "d6223ff1",
   "metadata": {},
   "outputs": [],
   "source": [
    "def laplace_transform(matrix):\n",
    "    row_sums = np.sum(matrix, axis=0)\n",
    "\n",
    "\n",
    "\n",
    "\n",
    "\n",
    "\n",
    "\n",
    "\n",
    "\n",
    "\n",
    "\n",
    "\n",
    "\n",
    "\n",
    "\n",
    "\n",
    "\n"
   ]
  },
  {
   "cell_type": "code",
   "execution_count": 48,
   "id": "83d06764",
   "metadata": {},
   "outputs": [],
   "source": [
    "A = np.array([[1, 3], [3, 6]])"
   ]
  },
  {
   "cell_type": "code",
   "execution_count": 49,
   "id": "b4526716",
   "metadata": {},
   "outputs": [
    {
     "data": {
      "text/plain": [
       "array([[1, 3],\n",
       "       [3, 6]])"
      ]
     },
     "execution_count": 49,
     "metadata": {},
     "output_type": "execute_result"
    }
   ],
   "source": [
    "A"
   ]
  },
  {
   "cell_type": "code",
   "execution_count": 50,
   "id": "289bcaea",
   "metadata": {},
   "outputs": [],
   "source": [
    "A_cols = np.sum(A, axis=1)"
   ]
  },
  {
   "cell_type": "code",
   "execution_count": 51,
   "id": "113fa48e",
   "metadata": {},
   "outputs": [
    {
     "data": {
      "text/plain": [
       "(array([4, 9]), array([2., 3.]))"
      ]
     },
     "execution_count": 51,
     "metadata": {},
     "output_type": "execute_result"
    }
   ],
   "source": [
    "A_cols, np.sqrt(A_cols)"
   ]
  },
  {
   "cell_type": "code",
   "execution_count": 52,
   "id": "c6bb1474",
   "metadata": {},
   "outputs": [
    {
     "data": {
      "text/plain": [
       "array([[0.25      , 0.5       ],\n",
       "       [0.5       , 0.66666667]])"
      ]
     },
     "execution_count": 52,
     "metadata": {},
     "output_type": "execute_result"
    }
   ],
   "source": [
    "A / np.sqrt(A_cols)[:, None] / np.sqrt(A_cols)"
   ]
  },
  {
   "cell_type": "code",
   "execution_count": null,
   "id": "e55b7088",
   "metadata": {},
   "outputs": [],
   "source": []
  },
  {
   "cell_type": "code",
   "execution_count": null,
   "id": "2c6efba5",
   "metadata": {},
   "outputs": [],
   "source": []
  },
  {
   "cell_type": "code",
   "execution_count": 56,
   "id": "519f509b",
   "metadata": {},
   "outputs": [],
   "source": [
    "sum_cols_sqrt = np.sqrt(np.sum(tc, axis=0))"
   ]
  },
  {
   "cell_type": "code",
   "execution_count": 57,
   "id": "c6964e01",
   "metadata": {},
   "outputs": [],
   "source": [
    "tc_1 = tc / sum_cols_sqrt[:, None] / sum_cols_sqrt"
   ]
  },
  {
   "cell_type": "code",
   "execution_count": 59,
   "id": "f97860bc",
   "metadata": {},
   "outputs": [],
   "source": [
    "tc_2 = np.eye(len(tc)) - tc_1"
   ]
  },
  {
   "cell_type": "code",
   "execution_count": 60,
   "id": "3f883640",
   "metadata": {
    "scrolled": true
   },
   "outputs": [
    {
     "data": {
      "text/plain": [
       "array([1.00000000e+00, 9.99999984e-01, 9.99999854e-01, 9.99999681e-01,\n",
       "       9.99999411e-01, 9.99999295e-01, 9.99999203e-01, 9.99999155e-01,\n",
       "       9.99999041e-01, 9.99998852e-01, 9.99998677e-01, 9.99998368e-01,\n",
       "       9.99998057e-01, 9.99997872e-01, 9.99997735e-01, 9.99997636e-01,\n",
       "       9.99997606e-01, 9.99997478e-01, 9.99997197e-01, 9.99997057e-01,\n",
       "       9.99996980e-01, 9.99996777e-01, 9.99996517e-01, 9.99996388e-01,\n",
       "       9.99996095e-01, 9.99995985e-01, 9.99995805e-01, 9.99995728e-01,\n",
       "       9.99995516e-01, 9.99995415e-01, 9.99995073e-01, 9.99994822e-01,\n",
       "       9.99994611e-01, 9.99994244e-01, 9.99993709e-01, 9.99993437e-01,\n",
       "       9.99993327e-01, 9.99993137e-01, 9.99992988e-01, 9.99992855e-01,\n",
       "       9.99992436e-01, 9.99992042e-01, 9.99991675e-01, 9.99991460e-01,\n",
       "       9.99991236e-01, 9.99991044e-01, 9.99990808e-01, 9.99990300e-01,\n",
       "       9.99990087e-01, 9.99989891e-01, 9.99989088e-01, 9.99989010e-01,\n",
       "       9.99988626e-01, 9.99988364e-01, 9.99987801e-01, 9.99987626e-01,\n",
       "       9.99987155e-01, 9.99986939e-01, 9.99986578e-01, 9.99985733e-01,\n",
       "       9.99985391e-01, 9.99984942e-01, 9.99984567e-01, 9.99984459e-01,\n",
       "       9.99984003e-01, 9.99983678e-01, 9.99983290e-01, 9.99983034e-01,\n",
       "       9.99982518e-01, 9.99982220e-01, 9.99981759e-01, 9.99981597e-01,\n",
       "       9.99981214e-01, 9.99980998e-01, 9.99980208e-01, 9.99979701e-01,\n",
       "       9.99979467e-01, 9.99979384e-01, 9.99978908e-01, 9.99978679e-01,\n",
       "       9.99978379e-01, 9.99978038e-01, 9.99977709e-01, 9.99977133e-01,\n",
       "       9.99976295e-01, 9.99975715e-01, 9.99975387e-01, 9.99975260e-01,\n",
       "       9.99974699e-01, 9.99974253e-01, 9.99973505e-01, 9.99973412e-01,\n",
       "       9.99972886e-01, 9.99972752e-01, 9.99972237e-01, 9.99971754e-01,\n",
       "       9.99971508e-01, 9.99970583e-01, 9.99970093e-01, 9.99969342e-01,\n",
       "       9.99969004e-01, 9.99968646e-01, 9.99968016e-01, 9.99967885e-01,\n",
       "       9.99967247e-01, 9.99966372e-01, 9.99966175e-01, 9.99965673e-01,\n",
       "       9.99965351e-01, 9.99964734e-01, 9.99964136e-01, 9.99964091e-01,\n",
       "       9.99962862e-01, 9.99962338e-01, 9.99961962e-01, 9.99961520e-01,\n",
       "       9.99961019e-01, 9.99960116e-01, 9.99959474e-01, 9.99958912e-01,\n",
       "       9.99958202e-01, 9.99957134e-01, 9.99956808e-01, 9.99956512e-01,\n",
       "       9.99955545e-01, 9.99954272e-01, 9.99953957e-01, 9.99953622e-01,\n",
       "       9.99952669e-01, 9.99951867e-01, 9.99951144e-01, 9.99950506e-01,\n",
       "       9.99950004e-01, 9.99948709e-01, 9.99948420e-01, 9.99948004e-01,\n",
       "       9.99947639e-01, 9.99946564e-01, 9.99945685e-01, 9.99944707e-01,\n",
       "       9.99943882e-01, 9.99942240e-01, 9.99942104e-01, 9.99941721e-01,\n",
       "       9.99940327e-01, 9.99938687e-01, 9.99938313e-01, 9.99937546e-01,\n",
       "       9.99937436e-01, 9.99936748e-01, 9.99934884e-01, 9.99933468e-01,\n",
       "       9.99932554e-01, 9.99931821e-01, 9.99930521e-01, 9.99930203e-01,\n",
       "       9.99928824e-01, 9.99928192e-01, 9.99926119e-01, 9.99925636e-01,\n",
       "       9.99925074e-01, 9.99924074e-01, 9.99922697e-01, 9.99921664e-01,\n",
       "       9.99919929e-01, 9.99918931e-01, 9.99917985e-01, 9.99917488e-01,\n",
       "       9.99915974e-01, 9.99915363e-01, 9.99913735e-01, 9.99913340e-01,\n",
       "       9.99912948e-01, 9.99909679e-01, 9.99908439e-01, 9.99907386e-01,\n",
       "       9.99905253e-01, 9.99904548e-01, 9.99903639e-01, 9.99900870e-01,\n",
       "       9.99900571e-01, 9.99895890e-01, 9.99895379e-01, 9.99895141e-01,\n",
       "       9.99891729e-01, 9.99889520e-01, 9.99888261e-01, 9.99885944e-01,\n",
       "       9.99883120e-01, 9.99880664e-01, 9.99879102e-01, 9.99877522e-01,\n",
       "       9.99874046e-01, 9.99872604e-01, 9.99872195e-01, 9.99870165e-01,\n",
       "       9.99865197e-01, 9.99862109e-01, 9.99861358e-01, 9.99860281e-01,\n",
       "       9.99856602e-01, 9.99854722e-01, 9.99852575e-01, 9.99850151e-01,\n",
       "       9.99847399e-01, 9.99846143e-01, 9.99845180e-01, 9.99842020e-01,\n",
       "       9.99839389e-01, 9.99836762e-01, 9.99833537e-01, 9.99832817e-01,\n",
       "       9.99826956e-01, 9.99823566e-01, 9.99823143e-01, 9.99820594e-01,\n",
       "       9.99818520e-01, 9.99816102e-01, 9.99814744e-01, 9.99811171e-01,\n",
       "       9.99804116e-01, 9.99803382e-01, 9.99801372e-01, 9.99798339e-01,\n",
       "       9.99797586e-01, 9.99792976e-01, 9.99791622e-01, 9.99786722e-01,\n",
       "       9.99785059e-01, 9.99780070e-01, 9.99778065e-01, 9.99773259e-01,\n",
       "       9.99769264e-01, 9.99764111e-01, 9.99757070e-01, 9.99752235e-01,\n",
       "       9.99748688e-01, 9.99743435e-01, 9.99741837e-01, 9.99737709e-01,\n",
       "       9.99736839e-01, 9.99732231e-01, 9.99728050e-01, 9.99717727e-01,\n",
       "       9.99716582e-01, 9.99704886e-01, 9.99692549e-01, 9.99685017e-01,\n",
       "       9.99683293e-01, 9.99674437e-01, 9.99669750e-01, 9.99660751e-01,\n",
       "       9.99658400e-01, 9.99656113e-01, 9.99644521e-01, 9.99642053e-01,\n",
       "       9.99630956e-01, 9.99625088e-01, 9.99618087e-01, 9.99617446e-01,\n",
       "       9.99595605e-01, 9.99578946e-01, 9.99564230e-01, 9.99561740e-01,\n",
       "       9.99539495e-01, 9.99533012e-01, 9.99522775e-01, 9.99518529e-01,\n",
       "       9.99509250e-01, 9.99500267e-01, 9.99478089e-01, 9.99474318e-01,\n",
       "       9.99458325e-01, 9.99443426e-01, 9.99416316e-01, 9.99408789e-01,\n",
       "       9.99393597e-01, 9.99386598e-01, 9.99377935e-01, 9.99337690e-01,\n",
       "       9.99318662e-01, 9.99280739e-01, 9.99263914e-01, 9.99260732e-01,\n",
       "       9.99220418e-01, 9.99197484e-01, 9.99154437e-01, 9.99142854e-01,\n",
       "       9.99120696e-01, 9.99105456e-01, 9.99087291e-01, 9.99078372e-01,\n",
       "       9.99038182e-01, 9.98997788e-01, 9.98952679e-01, 9.98891471e-01,\n",
       "       9.98862850e-01, 9.98793237e-01, 9.98737458e-01, 9.98669441e-01,\n",
       "       9.98657121e-01, 9.98646168e-01, 9.98445338e-01, 9.98261027e-01,\n",
       "       9.98182954e-01, 9.98156295e-01, 9.98049952e-01, 9.97731371e-01,\n",
       "       9.97375579e-01, 9.97189985e-01, 9.96857042e-01, 9.96673018e-01,\n",
       "       9.96248266e-01, 9.96213884e-01, 9.95304965e-01, 9.94373695e-01,\n",
       "       3.50662448e-16])"
      ]
     },
     "execution_count": 60,
     "metadata": {},
     "output_type": "execute_result"
    }
   ],
   "source": [
    "np.linalg.eigh(tc_2)[0][::-1]"
   ]
  },
  {
   "cell_type": "code",
   "execution_count": null,
   "id": "9e93a42f",
   "metadata": {},
   "outputs": [],
   "source": []
  },
  {
   "cell_type": "code",
   "execution_count": 65,
   "id": "99025f7c",
   "metadata": {},
   "outputs": [
    {
     "data": {
      "text/plain": [
       "1.0056581394180988"
      ]
     },
     "execution_count": 65,
     "metadata": {},
     "output_type": "execute_result"
    }
   ],
   "source": [
    "1 / 9.94373695e-01"
   ]
  },
  {
   "cell_type": "code",
   "execution_count": null,
   "id": "1fac70b1",
   "metadata": {},
   "outputs": [],
   "source": []
  },
  {
   "cell_type": "code",
   "execution_count": null,
   "id": "0b550129",
   "metadata": {},
   "outputs": [],
   "source": []
  },
  {
   "cell_type": "code",
   "execution_count": null,
   "id": "954b1126",
   "metadata": {},
   "outputs": [],
   "source": []
  },
  {
   "cell_type": "code",
   "execution_count": 8,
   "id": "6e9f9dbf",
   "metadata": {
    "scrolled": true
   },
   "outputs": [
    {
     "data": {
      "text/plain": [
       "array([1.00565814e+00, 1.00471718e+00, 1.00380051e+00, 1.00376586e+00,\n",
       "       1.00333809e+00, 1.00315287e+00, 1.00281793e+00, 1.00263133e+00,\n",
       "       1.00227379e+00, 1.00195386e+00, 1.00184711e+00, 1.00182035e+00,\n",
       "       1.00174200e+00, 1.00155708e+00, 1.00135567e+00, 1.00134468e+00,\n",
       "       1.00133233e+00, 1.00126414e+00, 1.00120822e+00, 1.00113845e+00,\n",
       "       1.00110976e+00, 1.00104842e+00, 1.00100322e+00, 1.00096274e+00,\n",
       "       1.00092248e+00, 1.00091354e+00, 1.00089534e+00, 1.00088008e+00,\n",
       "       1.00085788e+00, 1.00084628e+00, 1.00080316e+00, 1.00078019e+00,\n",
       "       1.00073982e+00, 1.00073663e+00, 1.00071978e+00, 1.00068180e+00,\n",
       "       1.00066275e+00, 1.00062245e+00, 1.00061378e+00, 1.00060677e+00,\n",
       "       1.00059156e+00, 1.00058402e+00, 1.00055688e+00, 1.00054197e+00,\n",
       "       1.00052596e+00, 1.00052218e+00, 1.00049998e+00, 1.00049099e+00,\n",
       "       1.00048170e+00, 1.00047745e+00, 1.00046721e+00, 1.00046072e+00,\n",
       "       1.00043845e+00, 1.00043596e+00, 1.00042123e+00, 1.00040456e+00,\n",
       "       1.00038270e+00, 1.00038206e+00, 1.00037505e+00, 1.00036918e+00,\n",
       "       1.00035808e+00, 1.00035561e+00, 1.00034401e+00, 1.00034172e+00,\n",
       "       1.00033936e+00, 1.00033036e+00, 1.00032567e+00, 1.00031681e+00,\n",
       "       1.00031508e+00, 1.00030755e+00, 1.00029520e+00, 1.00028350e+00,\n",
       "       1.00028235e+00, 1.00027202e+00, 1.00026784e+00, 1.00026323e+00,\n",
       "       1.00026236e+00, 1.00025823e+00, 1.00025663e+00, 1.00025138e+00,\n",
       "       1.00024783e+00, 1.00024299e+00, 1.00023594e+00, 1.00023079e+00,\n",
       "       1.00022679e+00, 1.00022198e+00, 1.00021998e+00, 1.00021499e+00,\n",
       "       1.00021332e+00, 1.00020842e+00, 1.00020707e+00, 1.00020245e+00,\n",
       "       1.00020170e+00, 1.00019867e+00, 1.00019666e+00, 1.00019592e+00,\n",
       "       1.00018886e+00, 1.00018529e+00, 1.00018393e+00, 1.00018151e+00,\n",
       "       1.00017944e+00, 1.00017689e+00, 1.00017647e+00, 1.00017307e+00,\n",
       "       1.00016721e+00, 1.00016649e+00, 1.00016326e+00, 1.00016064e+00,\n",
       "       1.00015800e+00, 1.00015484e+00, 1.00015388e+00, 1.00015262e+00,\n",
       "       1.00014987e+00, 1.00014745e+00, 1.00014530e+00, 1.00014342e+00,\n",
       "       1.00013974e+00, 1.00013866e+00, 1.00013791e+00, 1.00013482e+00,\n",
       "       1.00012985e+00, 1.00012782e+00, 1.00012741e+00, 1.00012597e+00,\n",
       "       1.00012249e+00, 1.00012091e+00, 1.00011935e+00, 1.00011689e+00,\n",
       "       1.00011407e+00, 1.00011175e+00, 1.00011049e+00, 1.00010828e+00,\n",
       "       1.00010487e+00, 1.00010463e+00, 1.00010412e+00, 1.00009944e+00,\n",
       "       1.00009914e+00, 1.00009637e+00, 1.00009546e+00, 1.00009476e+00,\n",
       "       1.00009262e+00, 1.00009157e+00, 1.00009033e+00, 1.00008706e+00,\n",
       "       1.00008667e+00, 1.00008627e+00, 1.00008464e+00, 1.00008403e+00,\n",
       "       1.00008252e+00, 1.00008202e+00, 1.00008108e+00, 1.00008008e+00,\n",
       "       1.00007834e+00, 1.00007731e+00, 1.00007593e+00, 1.00007493e+00,\n",
       "       1.00007437e+00, 1.00007389e+00, 1.00007181e+00, 1.00007118e+00,\n",
       "       1.00006980e+00, 1.00006948e+00, 1.00006818e+00, 1.00006745e+00,\n",
       "       1.00006654e+00, 1.00006512e+00, 1.00006326e+00, 1.00006257e+00,\n",
       "       1.00006246e+00, 1.00006169e+00, 1.00006132e+00, 1.00005968e+00,\n",
       "       1.00005828e+00, 1.00005790e+00, 1.00005776e+00, 1.00005612e+00,\n",
       "       1.00005530e+00, 1.00005432e+00, 1.00005344e+00, 1.00005236e+00,\n",
       "       1.00005200e+00, 1.00005158e+00, 1.00005129e+00, 1.00005000e+00,\n",
       "       1.00004950e+00, 1.00004886e+00, 1.00004813e+00, 1.00004733e+00,\n",
       "       1.00004638e+00, 1.00004604e+00, 1.00004573e+00, 1.00004446e+00,\n",
       "       1.00004349e+00, 1.00004319e+00, 1.00004287e+00, 1.00004180e+00,\n",
       "       1.00004109e+00, 1.00004053e+00, 1.00003989e+00, 1.00003898e+00,\n",
       "       1.00003848e+00, 1.00003804e+00, 1.00003766e+00, 1.00003714e+00,\n",
       "       1.00003591e+00, 1.00003587e+00, 1.00003527e+00, 1.00003465e+00,\n",
       "       1.00003433e+00, 1.00003383e+00, 1.00003363e+00, 1.00003275e+00,\n",
       "       1.00003212e+00, 1.00003199e+00, 1.00003135e+00, 1.00003100e+00,\n",
       "       1.00003066e+00, 1.00002991e+00, 1.00002942e+00, 1.00002849e+00,\n",
       "       1.00002825e+00, 1.00002776e+00, 1.00002725e+00, 1.00002711e+00,\n",
       "       1.00002659e+00, 1.00002650e+00, 1.00002575e+00, 1.00002530e+00,\n",
       "       1.00002474e+00, 1.00002461e+00, 1.00002429e+00, 1.00002371e+00,\n",
       "       1.00002287e+00, 1.00002229e+00, 1.00002196e+00, 1.00002162e+00,\n",
       "       1.00002132e+00, 1.00002109e+00, 1.00002062e+00, 1.00002053e+00,\n",
       "       1.00002030e+00, 1.00001979e+00, 1.00001900e+00, 1.00001879e+00,\n",
       "       1.00001840e+00, 1.00001824e+00, 1.00001778e+00, 1.00001748e+00,\n",
       "       1.00001697e+00, 1.00001671e+00, 1.00001632e+00, 1.00001600e+00,\n",
       "       1.00001554e+00, 1.00001543e+00, 1.00001506e+00, 1.00001461e+00,\n",
       "       1.00001427e+00, 1.00001342e+00, 1.00001306e+00, 1.00001284e+00,\n",
       "       1.00001237e+00, 1.00001220e+00, 1.00001164e+00, 1.00001137e+00,\n",
       "       1.00001099e+00, 1.00001091e+00, 1.00001011e+00, 1.00000991e+00,\n",
       "       1.00000970e+00, 1.00000919e+00, 1.00000896e+00, 1.00000876e+00,\n",
       "       1.00000854e+00, 1.00000832e+00, 1.00000796e+00, 1.00000756e+00,\n",
       "       1.00000715e+00, 1.00000701e+00, 1.00000686e+00, 1.00000667e+00,\n",
       "       1.00000656e+00, 1.00000629e+00, 1.00000576e+00, 1.00000539e+00,\n",
       "       1.00000518e+00, 1.00000493e+00, 1.00000458e+00, 1.00000448e+00,\n",
       "       1.00000427e+00, 1.00000420e+00, 1.00000402e+00, 1.00000391e+00,\n",
       "       1.00000361e+00, 1.00000348e+00, 1.00000322e+00, 1.00000302e+00,\n",
       "       1.00000294e+00, 1.00000280e+00, 1.00000252e+00, 1.00000240e+00,\n",
       "       1.00000236e+00, 1.00000226e+00, 1.00000213e+00, 1.00000194e+00,\n",
       "       1.00000163e+00, 1.00000132e+00, 1.00000115e+00, 1.00000096e+00,\n",
       "       1.00000085e+00, 1.00000080e+00, 1.00000070e+00, 1.00000059e+00,\n",
       "       1.00000032e+00, 1.00000015e+00, 1.00000002e+00, 9.99999998e-01,\n",
       "       3.67467466e-17])"
      ]
     },
     "execution_count": 8,
     "metadata": {},
     "output_type": "execute_result"
    }
   ],
   "source": [
    "np.linalg.eigh(lapin(tc))[0][::-1]"
   ]
  },
  {
   "cell_type": "code",
   "execution_count": 9,
   "id": "19972b5f",
   "metadata": {},
   "outputs": [],
   "source": [
    "np.savetxt(\"corelevance_matrix_lapin.txt\", tc_transformed)"
   ]
  },
  {
   "cell_type": "code",
   "execution_count": null,
   "id": "94e7722f",
   "metadata": {},
   "outputs": [],
   "source": []
  },
  {
   "cell_type": "code",
   "execution_count": null,
   "id": "834ee206",
   "metadata": {},
   "outputs": [],
   "source": []
  },
  {
   "cell_type": "code",
   "execution_count": 10,
   "id": "233c0b71",
   "metadata": {},
   "outputs": [],
   "source": [
    "import numpy as np\n",
    "from operator import itemgetter\n",
    "NUM_EL = 15"
   ]
  },
  {
   "cell_type": "code",
   "execution_count": 11,
   "id": "c0ca10cb",
   "metadata": {},
   "outputs": [],
   "source": [
    "member = np.loadtxt(\"clusters.dat\")"
   ]
  },
  {
   "cell_type": "code",
   "execution_count": 12,
   "id": "40207e4b",
   "metadata": {},
   "outputs": [
    {
     "data": {
      "text/plain": [
       "(317, 14)"
      ]
     },
     "execution_count": 12,
     "metadata": {},
     "output_type": "execute_result"
    }
   ],
   "source": [
    "member.shape"
   ]
  },
  {
   "cell_type": "code",
   "execution_count": 13,
   "id": "46f8374b",
   "metadata": {},
   "outputs": [
    {
     "name": "stdout",
     "output_type": "stream",
     "text": [
      "CLUSTER:\n",
      "\n",
      "[('query representation', 0.9492738808638721), ('distributed database recovery', 0.2952466254141227), ('data locking', 0.10766606850706567), ('reinforcement learning theory', 0.004788322615586317), ('web log analysis', 0.0035142409368013098), ('multi-agent learning', 0.0032362405117119467), ('learning to rank', 0.0029917827381894125), ('language models', 0.002930889077737563), ('supervised learning by classification', 0.002519422410168774), ('online learning settings', 0.0023864710609815547), ('network data models', 0.0017331426620566376), ('active learning', 0.001682660905651917), ('document structure', 0.0016760969324413695), ('video segmentation', 0.0016273449249671603), ('topic modeling', 0.0016255370971410311)]\n",
      "\n",
      "\n",
      "\n",
      "CLUSTER:\n",
      "\n",
      "[('active learning settings', 0.646887145506174), ('online learning theory', 0.5350419077372148), ('multi-agent reinforcement learning', 0.5177446381440173), ('query learning', 0.14309190122171475), ('inverse reinforcement learning', 0.046179521538707476), ('learning to rank', 0.03641109870565786), ('mixture modeling', 0.01976884887580205), ('lifelong machine learning', 0.01679735540154764), ('statistical relational learning', 0.015470862007518243), ('object detection', 0.013925188091301664), ('speech recognition', 0.013397151147209768), ('online analytical processing engines', 0.011659006253770258), ('test collections', 0.011119041077376194), ('video segmentation', 0.011091212849238582), ('learning from critiques', 0.010734178313918381)]\n",
      "\n",
      "\n",
      "\n",
      "CLUSTER:\n",
      "\n",
      "[('hierarchical representations', 0.6667820796700021), ('mixture models', 0.5049287164546635), ('data modeling', 0.37904244654092406), ('image segmentation', 0.23463201107774764), ('document collection models', 0.1512790014094946), ('video search', 0.12628363517740115), ('probabilistic reasoning', 0.10925468502342535), ('bayesian network models', 0.10761600220534744), ('topic modeling', 0.10471006412803334), ('top-k retrieval in databases', 0.06834442938889387), ('relational parallel and distributed dbmss', 0.06636212278571277), ('structured query language', 0.062379454621910364), ('temporal data', 0.05922240988668656), ('probabilistic algorithms', 0.030767615144071198), ('inductive logic learning', 0.028416545370916615)]\n",
      "\n",
      "\n",
      "\n",
      "CLUSTER:\n",
      "\n",
      "[('web log analysis', 0.33637960500394337), ('factor analysis', 0.3329742426278415), ('cluster analysis', 0.3175947609667341), ('bayesian analysis', 0.3023510385870922), ('query log analysis', 0.2980762398283759), ('survival analysis', 0.2924742013568883), ('traffic analysis', 0.27241499295737315), ('time series analysis', 0.25437218342366613), ('sentiment analysis', 0.24529847554852097), ('formal concept analysis', 0.19896783446789817), ('exploratory data analysis', 0.19208863914271126), ('contingency table analysis', 0.16466850945725822), ('independent component analysis', 0.16262900129750155), ('canonical correlation analysis', 0.14613850665520042), ('visual analytics', 0.11674078664391986)]\n",
      "\n",
      "\n",
      "\n",
      "CLUSTER:\n",
      "\n",
      "[('supervised learning by regression', 0.8660982861169284), ('biclustering', 0.2641742480631847), ('representation', 0.1360424854776783), ('speech recognition', 0.1277101383873042), ('object detection', 0.1244228800596479), ('data structures and algorithms for data management', 0.12346715302531738), ('bayesian analysis', 0.12282088289854783), ('top-k retrieval in databases', 0.10822382426686666), ('probabilistic retrieval models', 0.10110736427554894), ('feature selection', 0.07361170124852846), ('shape inference', 0.0658777292592977), ('inductive logic learning', 0.05838668871040394), ('fusion and federated search', 0.0575399598051171), ('semantic networks', 0.05736868350848277), ('learning under covariate shift', 0.05621172247068168)]\n",
      "\n",
      "\n",
      "\n",
      "CLUSTER:\n",
      "\n",
      "[('phonology', 0.5955068097629788), ('ontologies', 0.5899239614768061), ('ontology engineering', 0.2513805560867043), ('description logics', 0.22253601244081916), ('vagueness and fuzzy logic', 0.16276275472810922), ('probabilistic algorithms', 0.10711232856729867), ('probabilistic reasoning', 0.10447147215290115), ('probabilistic retrieval models', 0.09166631531634997), ('multiresolution', 0.08501020692158466), ('deduplication', 0.08169175100107026), ('information visualization', 0.07842811678528666), ('entity resolution', 0.07201491713031098), ('dialogue and pragmatics', 0.06755731742050888), ('evolutionary approach', 0.06347738713531827), ('clustering and classification', 0.061567427201977734)]\n",
      "\n",
      "\n",
      "\n",
      "CLUSTER:\n",
      "\n",
      "[('point lookups', 0.8122934429086133), ('deadlocks', 0.2861540672009128), ('record and block layout', 0.15563804788449767), ('interest point and salient region detections', 0.12790258383273828), ('record and buffer management', 0.12129283180920876), ('surfacing', 0.1029321466323035), ('transformation and loading', 0.09688898080601341), ('data compression', 0.09269144183762962), ('visualization design and evaluation methods', 0.08711025002792798), ('key-value stores', 0.0857468975956771), ('stochastic differential equations', 0.0818633575980817), ('join algorithms', 0.08161253072448306), ('exploratory data analysis', 0.08153946662466473), ('computing most probable explanation', 0.07957534700181638), ('test collections', 0.07625850100192902)]\n",
      "\n",
      "\n",
      "\n",
      "CLUSTER:\n",
      "\n",
      "[('distributed database recovery', 0.9006209311678216), ('data locking', 0.3356219499829397), ('representation', 0.2553599658399512), ('xquery', 0.05096302741179083), ('query log analysis', 0.03865308209448552), ('active learning settings', 0.03634097005853141), ('reinforcement learning theory', 0.03608518653597901), ('multi-agent learning', 0.032201398445096674), ('mixture modeling', 0.018972235549367774), ('network data models', 0.01732752252176675), ('graph based conceptual clustering', 0.014932722326775973), ('database query languages', 0.014031168342656379), ('structured query language', 0.014022798980357664), ('inductive logic learning', 0.01296080095690483), ('online analytical processing engines', 0.012594497745311182)]\n",
      "\n",
      "\n",
      "\n",
      "CLUSTER:\n",
      "\n",
      "[('structured outputs', 0.35696144520466894), ('join algorithms', 0.34301217474584134), ('document structure', 0.31526471007519635), ('semi-structured data', 0.3115604595293921), ('structured prediction', 0.2887705571863573), ('structured text search', 0.2597060787964018), ('reconstruction', 0.25517336996508927), ('probabilistic algorithms', 0.24087565840331984), ('structured query language', 0.2353672384645568), ('data structures and algorithms for data management', 0.22304879256097476), ('perceptron algorithm', 0.2220526343315266), ('metropolis-hastings algorithm', 0.16281346541289682), ('mixture modeling', 0.11006118626485105), ('task models', 0.09709989630104156), ('mixture models', 0.08710510569188296)]\n",
      "\n",
      "\n",
      "\n",
      "CLUSTER:\n",
      "\n",
      "[('query learning', 0.8166805517194609), ('bayesian network models', 0.2973889609400648), ('relational parallel and distributed dbmss', 0.22230011940123598), ('graph based conceptual clustering', 0.13713541138994162), ('online learning settings', 0.12597120796579703), ('document topic models', 0.1234251472511336), ('factor analysis', 0.12267267827785235), ('clustering and classification', 0.11880443073714232), ('bayesian computation', 0.11124558210072677), ('video segmentation', 0.11081852090852796), ('active learning', 0.10273509398089412), ('supervised dimesionality reduction', 0.09919002708242626), ('data modeling', 0.09656816349431785), ('multi-agent reinforcement learning', 0.09210308103655844), ('test collections', 0.08227797177283763)]\n",
      "\n",
      "\n",
      "\n",
      "CLUSTER:\n",
      "\n",
      "[('knowledge discovery', 0.5803138480761274), ('motif discovery', 0.3205713475268886), ('object recognition', 0.2953296776575787), ('speech recognition', 0.27352907063190546), ('robust regression', 0.2507499168479031), ('rule and pattern discovery', 0.21056940048493922), ('cognitive robotics', 0.2103478178450641), ('quantile regression', 0.19468762562054429), ('regret bounds', 0.15672918988720352), ('database recovery', 0.14658665787746544), ('data compression', 0.141925691609695), ('language models', 0.1084263549243996), ('speech', 0.1008745333736405), ('mapreduce languages', 0.09829746186538173), ('sample complexity and generalization bounds', 0.08615471048417378)]\n",
      "\n",
      "\n",
      "\n",
      "CLUSTER:\n",
      "\n",
      "[('markov networks', 0.41163857004705734), ('causal networks', 0.3944999879603495), ('bayesian networks', 0.39138490372225737), ('semantic networks', 0.33010855921502275), ('deep belief networks', 0.3249003995759386), ('network data models', 0.20862315940735934), ('bayesian network models', 0.2029150807108708), ('query optimization', 0.1602911408613495), ('join algorithms', 0.14819085284239863), ('personalization', 0.1054706453626857), ('perceptron algorithm', 0.10534431586488993), ('summarization', 0.10514481391675234), ('bayesian computation', 0.09872816449714725), ('probabilistic algorithms', 0.09712801205310578), ('expectation maximization', 0.09150535422569354)]\n",
      "\n",
      "\n",
      "\n",
      "CLUSTER:\n",
      "\n",
      "[('kernel approach', 0.5503316048165907), ('neuro-fuzzy approach', 0.4680503645273995), ('evolutionary approach', 0.42496849856873864), ('markov processes', 0.1283380102801588), ('item-based', 0.12718234678210963), ('approximate dynamic programming methods', 0.12204843549090152), ('process mining', 0.12018311206754477), ('database query processing and optimization', 0.11977134793079239), ('language models', 0.11856482648530234), ('clustering and classification', 0.1174995800181832), ('database query languages', 0.11279996398461217), ('fusion of classifiers', 0.11239197237898299), ('language resources', 0.11027121365927839), ('supervised learning by classification', 0.10464646090691869), ('gaussian processes', 0.10452970272729174)]\n",
      "\n",
      "\n",
      "\n",
      "CLUSTER:\n",
      "\n",
      "[('tracking', 0.4533352764993503), ('ranking', 0.42933161697347405), ('probabilistic reasoning', 0.2625849509348468), ('sequential decision making', 0.25431150535039887), ('probabilistic retrieval models', 0.22391091351220271), ('distributed data locking', 0.20314913379490215), ('data locking', 0.19566234579337846), ('integrity checking', 0.18881527540295664), ('decision diagrams', 0.1811034219007272), ('object recognition', 0.16232920061216113), ('speech recognition', 0.15345107010298073), ('probabilistic algorithms', 0.15039804464450682), ('recommender systems', 0.1493605238801164), ('database interoperability', 0.11908105233230057), ('visualization toolkits', 0.11070489026100491)]\n",
      "\n",
      "\n",
      "\n"
     ]
    }
   ],
   "source": [
    "with open(\"taxonomy_leaves.txt\") as fn:\n",
    "    annotations = [l.strip() for l in fn]\n",
    "\n",
    "for cluster in member.T:\n",
    "    print(\"CLUSTER:\\n\")\n",
    "    print(list(sorted(zip(annotations, cluster.flat),\n",
    "                      key=itemgetter(1), reverse=True))[:NUM_EL])\n",
    "    print(\"\\n\\n\")"
   ]
  },
  {
   "cell_type": "code",
   "execution_count": 14,
   "id": "3d91ab0e",
   "metadata": {},
   "outputs": [
    {
     "data": {
      "text/plain": [
       "array([[0.00040891, 0.00013549, 0.00086322, ..., 0.        , 0.        ,\n",
       "        0.        ],\n",
       "       [0.        , 0.00168112, 0.00373514, ..., 0.00038837, 0.        ,\n",
       "        0.        ],\n",
       "       [0.        , 0.00549358, 0.        , ..., 0.        , 0.        ,\n",
       "        0.        ],\n",
       "       ...,\n",
       "       [0.0785389 , 0.        , 0.        , ..., 0.        , 0.04744748,\n",
       "        0.        ],\n",
       "       [0.        , 0.        , 0.00223931, ..., 0.00664991, 0.        ,\n",
       "        0.00211133],\n",
       "       [0.0115795 , 0.        , 0.        , ..., 0.        , 0.        ,\n",
       "        0.00426337]])"
      ]
     },
     "execution_count": 14,
     "metadata": {},
     "output_type": "execute_result"
    }
   ],
   "source": [
    "member.T"
   ]
  },
  {
   "cell_type": "code",
   "execution_count": 15,
   "id": "9578dfc9",
   "metadata": {},
   "outputs": [
    {
     "data": {
      "text/plain": [
       "0.9492738808638721"
      ]
     },
     "execution_count": 15,
     "metadata": {},
     "output_type": "execute_result"
    }
   ],
   "source": [
    "np.max(member)"
   ]
  },
  {
   "cell_type": "code",
   "execution_count": 16,
   "id": "29746f71",
   "metadata": {},
   "outputs": [
    {
     "data": {
      "text/plain": [
       "0.0"
      ]
     },
     "execution_count": 16,
     "metadata": {},
     "output_type": "execute_result"
    }
   ],
   "source": [
    "np.min(member)"
   ]
  },
  {
   "cell_type": "code",
   "execution_count": 17,
   "id": "6ce3ec84",
   "metadata": {},
   "outputs": [
    {
     "data": {
      "text/plain": [
       "(array([4290,   78,   29,   20,    7,    4,    4,    1,    2,    3]),\n",
       " array([0.        , 0.09492739, 0.18985478, 0.28478216, 0.37970955,\n",
       "        0.47463694, 0.56956433, 0.66449172, 0.7594191 , 0.85434649,\n",
       "        0.94927388]))"
      ]
     },
     "execution_count": 17,
     "metadata": {},
     "output_type": "execute_result"
    }
   ],
   "source": [
    "np.histogram(member.flatten())"
   ]
  },
  {
   "cell_type": "code",
   "execution_count": null,
   "id": "134a017d",
   "metadata": {},
   "outputs": [],
   "source": []
  },
  {
   "cell_type": "code",
   "execution_count": 18,
   "id": "a8e169c3",
   "metadata": {},
   "outputs": [],
   "source": [
    "def get_print_top_k_list(U, top_k=10):\n",
    "    _, n_cl = U.shape\n",
    "    top_k_list = []\n",
    "    for i in range(n_cl):\n",
    "        top_k_list.append(np.argsort(U[: ,i])[::-1][:top_k])\n",
    "        print(top_k_list[i])\n",
    "    return top_k_list"
   ]
  },
  {
   "cell_type": "code",
   "execution_count": 19,
   "id": "c1948c48",
   "metadata": {},
   "outputs": [
    {
     "name": "stdout",
     "output_type": "stream",
     "text": [
      "[159 103  91  12 148   8 172 170 245 266]\n",
      "[270   7 260  10 258 172 251 263 281 235]\n",
      "[243 285  18 232 155 195 225 287 252 175]\n",
      "[148 290 249   5 161  59 149  58 180 143]\n",
      "[246 129 279 218 235  22   5 175 169 314]\n",
      "[220 156 230 222 226  54 225 169 304 111]\n",
      "[ 81 102  86 231  94 146 112  84 214  95]\n",
      "[103  91 279 108 161 270  12   8 251  71]\n",
      "[247  90 151  73  11 190 239  54 107  22]\n",
      "[ 10 287  97 134 266 152 290 183  36 233]\n",
      "[150 254 236 218  57 140 229  39  15  93]\n",
      "[ 26  30  25 223 303  71 287  88  90 164]\n",
      "[271 298 278  64 119 309 136  23 170 183]\n",
      "[238 244 225 257 169 101  91 100  28 236]\n"
     ]
    }
   ],
   "source": [
    "top_k_list = get_print_top_k_list(member)"
   ]
  },
  {
   "cell_type": "code",
   "execution_count": 20,
   "id": "5c83d05f",
   "metadata": {},
   "outputs": [],
   "source": [
    "def print_intersections(top_k_list):\n",
    "    print('\\t\\t Intersections')\n",
    "    for i in range(len(top_k_list)):\n",
    "        print(f'Cluster {i+1}', end='\\t')\n",
    "        intersections = ''\n",
    "        for j in range(len(top_k_list )):\n",
    "            n_common = len(set(top_k_list[i]).intersection(set(top_k_list[j])))\n",
    "            intersections += f'{n_common} --'\n",
    "        intersections.strip('-')\n",
    "        intersections.strip('-')    \n",
    "        print(intersections)"
   ]
  },
  {
   "cell_type": "code",
   "execution_count": 21,
   "id": "63eb49b0",
   "metadata": {},
   "outputs": [
    {
     "name": "stdout",
     "output_type": "stream",
     "text": [
      "\t\t Intersections\n",
      "Cluster 1\t10 --1 --0 --1 --0 --0 --0 --4 --0 --1 --0 --0 --1 --1 --\n",
      "Cluster 2\t1 --10 --0 --0 --1 --0 --0 --2 --0 --1 --0 --0 --0 --0 --\n",
      "Cluster 3\t0 --0 --10 --0 --1 --1 --0 --0 --0 --1 --0 --1 --0 --1 --\n",
      "Cluster 4\t1 --0 --0 --10 --1 --0 --0 --1 --0 --1 --0 --0 --0 --0 --\n",
      "Cluster 5\t0 --1 --1 --1 --10 --1 --0 --1 --1 --0 --1 --0 --0 --1 --\n",
      "Cluster 6\t0 --0 --1 --0 --1 --10 --0 --0 --1 --0 --0 --0 --0 --2 --\n",
      "Cluster 7\t0 --0 --0 --0 --0 --0 --10 --0 --0 --0 --0 --0 --0 --0 --\n",
      "Cluster 8\t4 --2 --0 --1 --1 --0 --0 --10 --0 --0 --0 --1 --0 --1 --\n",
      "Cluster 9\t0 --0 --0 --0 --1 --1 --0 --0 --10 --0 --0 --1 --0 --0 --\n",
      "Cluster 10\t1 --1 --1 --1 --0 --0 --0 --0 --0 --10 --0 --1 --1 --0 --\n",
      "Cluster 11\t0 --0 --0 --0 --1 --0 --0 --0 --0 --0 --10 --0 --0 --1 --\n",
      "Cluster 12\t0 --0 --1 --0 --0 --0 --0 --1 --1 --1 --0 --10 --0 --0 --\n",
      "Cluster 13\t1 --0 --0 --0 --0 --0 --0 --0 --0 --1 --0 --0 --10 --0 --\n",
      "Cluster 14\t1 --0 --1 --0 --1 --2 --0 --1 --0 --0 --1 --0 --0 --10 --\n"
     ]
    }
   ],
   "source": [
    "print_intersections(top_k_list)"
   ]
  },
  {
   "cell_type": "code",
   "execution_count": null,
   "id": "6acd94dc",
   "metadata": {},
   "outputs": [],
   "source": []
  }
 ],
 "metadata": {
  "kernelspec": {
   "display_name": "Python 3",
   "language": "python",
   "name": "python3"
  },
  "language_info": {
   "codemirror_mode": {
    "name": "ipython",
    "version": 3
   },
   "file_extension": ".py",
   "mimetype": "text/x-python",
   "name": "python",
   "nbconvert_exporter": "python",
   "pygments_lexer": "ipython3",
   "version": "3.6.9"
  }
 },
 "nbformat": 4,
 "nbformat_minor": 5
}
