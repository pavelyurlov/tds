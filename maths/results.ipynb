{
 "cells": [
  {
   "cell_type": "code",
   "execution_count": 1,
   "id": "f9ec3a3f",
   "metadata": {},
   "outputs": [],
   "source": [
    "with open(\"taxonomy_leaves.txt\") as fn:\n",
    "    annotations = [l.strip() for l in fn]"
   ]
  },
  {
   "cell_type": "code",
   "execution_count": 2,
   "id": "c736609c",
   "metadata": {},
   "outputs": [
    {
     "data": {
      "text/plain": [
       "(343, 343)"
      ]
     },
     "execution_count": 2,
     "metadata": {},
     "output_type": "execute_result"
    }
   ],
   "source": [
    "len(annotations), len(set(annotations))"
   ]
  },
  {
   "cell_type": "code",
   "execution_count": 3,
   "id": "86870166",
   "metadata": {
    "scrolled": true
   },
   "outputs": [
    {
     "name": "stdout",
     "output_type": "stream",
     "text": [
      "(343, 343)\n",
      "Cluster contribution is too small\n",
      "(343, 7)\n",
      "CLUSTER 1:\n",
      "\n",
      "[('stochastic difference equations', 0.939), ('hypothesis testing multivariate analysis', 0.261), ('fuzzy matrices', 0.154), ('random fields image analysis', 0.105), ('information geometry statistical', 0.041), ('packing covering', 0.037), ('combinatorial probability', 0.031), ('fuzziness design statistical experiments', 0.031), ('computational data analysis big data', 0.031), ('linear programming', 0.03), ('fuzzy analysis statistics', 0.026), ('combinatorial matroids geometric lattices', 0.025), ('numerical mathematical programming', 0.023), ('estimation survival analysis censored data', 0.021), ('random matrices', 0.02)]\n",
      "\n",
      "\n",
      "\n",
      "CLUSTER 2:\n",
      "\n",
      "[('fuzzy difference equations', 0.91), ('applications statistics', 0.224), ('image analysis multivariate analysis', 0.136), ('computational data analysis big data', 0.127), ('stochastic matrices', 0.107), ('hypothesis testing', 0.087), ('packing covering', 0.084), ('stochastic difference equations', 0.082), ('multivariate analysis fuzziness', 0.079), ('information geometry statistical', 0.075), ('combinatorial probability', 0.074), ('functional data analysis', 0.074), ('medical epidemiology', 0.063), ('inference from spatial processes', 0.06), ('matrix exponential similar functions matrices', 0.051)]\n",
      "\n",
      "\n",
      "\n",
      "CLUSTER 3:\n",
      "\n",
      "[('combinatorial packing covering', 0.726), ('geometric probability stochastic geometry', 0.361), ('approximation functions', 0.277), ('numerical computation matrix exponential similar matrix functions', 0.26), ('statistical decision', 0.201), ('random fields image analysis', 0.158), ('estimation multivariate analysis', 0.155), ('informational data analysis big data', 0.152), ('fuzzy difference equations', 0.112), ('applications statistics', 0.099), ('probabilistic models generic numerical probability statistics', 0.08), ('detection information communication', 0.075), ('characterization structure multivariate probability distributions copulas', 0.068), ('information kolmogorov complexity', 0.067), ('probability on algebraic topological structures', 0.061)]\n",
      "\n",
      "\n",
      "\n",
      "CLUSTER 4:\n",
      "\n",
      "[('inference from stochastic processes fuzziness', 0.577), ('image analysis multivariate analysis', 0.574), ('hypothesis testing multivariate analysis', 0.291), ('fuzziness design statistical experiments', 0.179), ('random fields', 0.175), ('spatial models sociology', 0.168), ('fuzziness survival analysis censored data', 0.162), ('computational data analysis big data', 0.143), ('approximations statistical distributions nonasymptotic', 0.131), ('probabilistic models generic numerical probability statistics', 0.113), ('combinatorial packing covering', 0.105), ('matrix inversion generalized inverses', 0.104), ('matrix exponential similar functions matrices', 0.099), ('applications statistics', 0.084), ('approximation functions', 0.076)]\n",
      "\n",
      "\n",
      "\n",
      "CLUSTER 5:\n",
      "\n",
      "[('erdos', 0.666), ('mathematical geography demography', 0.286), ('order statistics empirical distribution functions', 0.229), ('polyhedral combinatorics branch--bound branch--cut', 0.191), ('stochastic scheduling', 0.174), ('quantile regression', 0.157), ('multilinear algebra tensor calculus', 0.153), ('max-plus algebras', 0.153), ('cell biology', 0.153), ('data encryption computer', 0.126), ('lattices convex bodies', 0.117), ('numerical wavelets', 0.113), ('risk models', 0.086), ('signal characterization reconstruction filtering', 0.084), ('fuzzy matrices', 0.083)]\n",
      "\n",
      "\n",
      "\n",
      "CLUSTER 6:\n",
      "\n",
      "[('traffic', 0.583), ('duality', 0.426), ('sufficient statistics fields', 0.355), ('individual preferences', 0.269), ('statistical fuzziness sufficiency information', 0.184), ('sampling sample surveys', 0.123), ('combinatorial complexity', 0.112), ('languages software systems knowledge-based systems expert systems', 0.106), ('linear inequalities matrices', 0.101), ('data structures', 0.088), ('iterative numerical linear systems', 0.087), ('bootstrap jackknife resampling', 0.084), ('generalized linear models logistic models', 0.082), ('inverse linear algebra', 0.081), ('information kolmogorov complexity', 0.078)]\n",
      "\n",
      "\n",
      "\n",
      "CLUSTER 7:\n",
      "\n",
      "[('multivariate distribution statistics', 0.654), ('markov processes estimation hidden markov models', 0.313), ('numerical solution ill-posed involving ordinary differential equations', 0.257), ('text processing mathematical typography', 0.236), ('fuzziness survival analysis censored data', 0.175), ('random fields image analysis', 0.166), ('determinants permanents traces special matrix functions', 0.153), ('difference equations', 0.143), ('numerical computer graphics image analysis computational geometry', 0.135), ('biostatistics', 0.129), ('detection information communication', 0.118), ('functional data analysis', 0.116), ('semidefinite programming', 0.115), ('minimax mathematical programming', 0.113), ('applications statistics', 0.103)]\n",
      "\n",
      "\n",
      "\n"
     ]
    }
   ],
   "source": [
    "import numpy as np\n",
    "from lapin import lapin\n",
    "from faddis_zhirayr import faddis\n",
    "\n",
    "from operator import itemgetter\n",
    "\n",
    "NUM_EL = 15\n",
    "alpha = 0.2\n",
    "\n",
    "\n",
    "if __name__ == \"__main__\":\n",
    "    tc = np.loadtxt(\"corelevance_matrix.txt\")\n",
    "    print(tc.shape)\n",
    "\n",
    "    tc_transformed = lapin(tc)\n",
    "    B, member, contrib, intensity, lat, tt = faddis(tc_transformed)\n",
    "    np.savetxt(\"clusters.dat\", member)\n",
    "    print(member.shape)\n",
    "\n",
    "    with open(\"taxonomy_leaves.txt\") as fn:\n",
    "        annotations = [l.strip() for l in fn]\n",
    "\n",
    "    for i, cluster in enumerate(np.round(member.T, 3)):\n",
    "        print(\"CLUSTER {}:\\n\".format(i + 1))\n",
    "        print(list(sorted(zip(annotations, cluster.flat),\n",
    "                          key=itemgetter(1), reverse=True))[:NUM_EL])\n",
    "        print(\"\\n\\n\")"
   ]
  },
  {
   "cell_type": "code",
   "execution_count": null,
   "id": "32cd87c4",
   "metadata": {},
   "outputs": [],
   "source": []
  },
  {
   "cell_type": "code",
   "execution_count": 4,
   "id": "3a6bc042",
   "metadata": {},
   "outputs": [
    {
     "data": {
      "text/plain": [
       "array([0.00282526, 0.00266069, 0.00244581, 0.00231539, 0.00216621,\n",
       "       0.00210793, 0.00197254])"
      ]
     },
     "execution_count": 4,
     "metadata": {},
     "output_type": "execute_result"
    }
   ],
   "source": [
    "contrib"
   ]
  },
  {
   "cell_type": "code",
   "execution_count": 5,
   "id": "3809ea94",
   "metadata": {
    "scrolled": true
   },
   "outputs": [
    {
     "data": {
      "text/plain": [
       "matrix([[0.99157653, 0.98322401],\n",
       "        [0.97681003, 0.95415784],\n",
       "        [0.9564609 , 0.91481745],\n",
       "        [0.94344759, 0.89009336],\n",
       "        [0.92786934, 0.86094151],\n",
       "        [0.92156426, 0.84928069],\n",
       "        [0.90639583, 0.82155341]])"
      ]
     },
     "execution_count": 5,
     "metadata": {},
     "output_type": "execute_result"
    }
   ],
   "source": [
    "intensity"
   ]
  },
  {
   "cell_type": "code",
   "execution_count": 6,
   "id": "5be616f6",
   "metadata": {},
   "outputs": [
    {
     "data": {
      "text/plain": [
       "array([1.00000005, 1.00000011, 1.00000024, 1.00000029, 1.00002042,\n",
       "       1.00061221, 1.00000247])"
      ]
     },
     "execution_count": 6,
     "metadata": {},
     "output_type": "execute_result"
    }
   ],
   "source": [
    "lat"
   ]
  },
  {
   "cell_type": "code",
   "execution_count": 7,
   "id": "f5ae5b9c",
   "metadata": {},
   "outputs": [
    {
     "data": {
      "text/plain": [
       "array([[3354.30257421, 1600.03612393, 1346.1412584 , ..., 3554.6570268 ,\n",
       "        3625.92911271, 3206.52059489],\n",
       "       [1600.03612393,  924.78236171,  743.99805078, ..., 1848.82022447,\n",
       "        1882.50755319, 1669.27688601],\n",
       "       [1346.1412584 ,  743.99805078,  661.33915235, ..., 1530.43871115,\n",
       "        1558.05774318, 1382.03052727],\n",
       "       ...,\n",
       "       [3554.6570268 , 1848.82022447, 1530.43871115, ..., 4471.98515693,\n",
       "        4448.29097346, 3769.43880341],\n",
       "       [3625.92911271, 1882.50755319, 1558.05774318, ..., 4448.29097346,\n",
       "        4656.84983748, 3848.94711291],\n",
       "       [3206.52059489, 1669.27688601, 1382.03052727, ..., 3769.43880341,\n",
       "        3848.94711291, 3609.3195464 ]])"
      ]
     },
     "execution_count": 7,
     "metadata": {},
     "output_type": "execute_result"
    }
   ],
   "source": [
    "tc"
   ]
  },
  {
   "cell_type": "code",
   "execution_count": 8,
   "id": "3d6f004d",
   "metadata": {
    "scrolled": true
   },
   "outputs": [
    {
     "data": {
      "text/plain": [
       "array([9.03996020e+05, 4.20177077e+03, 3.53479355e+03, 3.13773819e+03,\n",
       "       2.94117148e+03, 2.85488008e+03, 2.51979707e+03, 2.33462507e+03,\n",
       "       2.11598256e+03, 1.95511311e+03, 1.91221581e+03, 1.74948138e+03,\n",
       "       1.54002986e+03, 1.48905705e+03, 1.41960020e+03, 1.39476157e+03,\n",
       "       1.33015034e+03, 1.27906181e+03, 1.21455536e+03, 1.10998730e+03,\n",
       "       1.05102270e+03, 1.01385712e+03, 1.00801730e+03, 9.69153267e+02,\n",
       "       9.04981616e+02, 8.87650509e+02, 8.72385184e+02, 8.42372565e+02,\n",
       "       7.85415993e+02, 7.68649270e+02, 7.50828293e+02, 7.01168528e+02,\n",
       "       6.73565060e+02, 6.22299098e+02, 5.93948606e+02, 5.71457363e+02,\n",
       "       5.64745076e+02, 5.10920605e+02, 4.98094595e+02, 4.86928760e+02,\n",
       "       4.77794312e+02, 4.53842473e+02, 4.29211485e+02, 4.23627239e+02,\n",
       "       4.20833577e+02, 4.12702442e+02, 3.93018069e+02, 3.80945415e+02,\n",
       "       3.69304499e+02, 3.55473065e+02, 3.34425040e+02, 3.26954334e+02,\n",
       "       3.08973771e+02, 3.06365667e+02, 3.01978128e+02, 2.93587966e+02,\n",
       "       2.73790399e+02, 2.66481630e+02, 2.57620866e+02, 2.55277995e+02,\n",
       "       2.47722199e+02, 2.41443702e+02, 2.34497692e+02, 2.29523910e+02,\n",
       "       2.22518887e+02, 2.19107824e+02, 2.14580595e+02, 2.05021317e+02,\n",
       "       2.01098934e+02, 1.99683796e+02, 1.94963608e+02, 1.88474538e+02,\n",
       "       1.84813467e+02, 1.81880662e+02, 1.77208621e+02, 1.72057364e+02,\n",
       "       1.70536606e+02, 1.67022451e+02, 1.61203585e+02, 1.59837882e+02,\n",
       "       1.58501865e+02, 1.54240579e+02, 1.52068603e+02, 1.47744883e+02,\n",
       "       1.44191586e+02, 1.43229029e+02, 1.41069624e+02, 1.38243049e+02,\n",
       "       1.37436054e+02, 1.34928550e+02, 1.32075994e+02, 1.30424272e+02,\n",
       "       1.28605996e+02, 1.26295777e+02, 1.22752054e+02, 1.21803119e+02,\n",
       "       1.21174580e+02, 1.17867373e+02, 1.16146382e+02, 1.14122564e+02,\n",
       "       1.12859144e+02, 1.10180150e+02, 1.09378655e+02, 1.07864114e+02,\n",
       "       1.05058592e+02, 1.04046696e+02, 1.01602399e+02, 9.98630418e+01,\n",
       "       9.81798030e+01, 9.61383945e+01, 9.57786045e+01, 9.28293355e+01,\n",
       "       9.22191755e+01, 9.16858369e+01, 8.92779661e+01, 8.81204113e+01,\n",
       "       8.69048290e+01, 8.54893425e+01, 8.43346639e+01, 8.34507874e+01,\n",
       "       8.11282771e+01, 7.96703362e+01, 7.86070503e+01, 7.69080240e+01,\n",
       "       7.62114821e+01, 7.43256311e+01, 7.27886489e+01, 7.20919794e+01,\n",
       "       7.04020475e+01, 6.83277195e+01, 6.82108088e+01, 6.68867897e+01,\n",
       "       6.60619799e+01, 6.55144766e+01, 6.42018077e+01, 6.38684701e+01,\n",
       "       6.23675749e+01, 6.14483798e+01, 6.02685508e+01, 5.98741960e+01,\n",
       "       5.83081477e+01, 5.69414650e+01, 5.60251321e+01, 5.48529091e+01,\n",
       "       5.46142684e+01, 5.33929658e+01, 5.30319507e+01, 5.26943668e+01,\n",
       "       5.19660145e+01, 5.09825261e+01, 5.01868376e+01, 4.89690340e+01,\n",
       "       4.84358297e+01, 4.81516447e+01, 4.78868632e+01, 4.65767402e+01,\n",
       "       4.58338753e+01, 4.49677356e+01, 4.45126930e+01, 4.39439358e+01,\n",
       "       4.23727326e+01, 4.20926045e+01, 4.12916511e+01, 4.07700998e+01,\n",
       "       4.04748702e+01, 3.99824541e+01, 3.93064493e+01, 3.78097509e+01,\n",
       "       3.75624611e+01, 3.72887713e+01, 3.67273529e+01, 3.65962734e+01,\n",
       "       3.55973767e+01, 3.52000518e+01, 3.44573472e+01, 3.40078810e+01,\n",
       "       3.30762238e+01, 3.28334242e+01, 3.21736367e+01, 3.11701931e+01,\n",
       "       3.09688960e+01, 3.04467074e+01, 3.01860080e+01, 3.01333234e+01,\n",
       "       2.91111256e+01, 2.87527185e+01, 2.83350275e+01, 2.82206272e+01,\n",
       "       2.78274379e+01, 2.72114987e+01, 2.67803139e+01, 2.63255534e+01,\n",
       "       2.56219499e+01, 2.54250639e+01, 2.51761455e+01, 2.45479603e+01,\n",
       "       2.41418472e+01, 2.37533561e+01, 2.35995301e+01, 2.29204814e+01,\n",
       "       2.25932999e+01, 2.23629172e+01, 2.20126086e+01, 2.15134146e+01,\n",
       "       2.09921786e+01, 2.06584626e+01, 2.03555630e+01, 2.02199291e+01,\n",
       "       1.96699690e+01, 1.95086230e+01, 1.89202312e+01, 1.84887995e+01,\n",
       "       1.83004520e+01, 1.79722913e+01, 1.78951915e+01, 1.77013624e+01,\n",
       "       1.74764412e+01, 1.69009001e+01, 1.67161912e+01, 1.65035037e+01,\n",
       "       1.62100016e+01, 1.60663352e+01, 1.56639797e+01, 1.55370900e+01,\n",
       "       1.50468310e+01, 1.47239511e+01, 1.43364516e+01, 1.41245221e+01,\n",
       "       1.38144307e+01, 1.35560528e+01, 1.34724291e+01, 1.32923078e+01,\n",
       "       1.29319379e+01, 1.28151738e+01, 1.24681905e+01, 1.24113061e+01,\n",
       "       1.20151038e+01, 1.17753856e+01, 1.15745474e+01, 1.13765211e+01,\n",
       "       1.12045204e+01, 1.10760151e+01, 1.06381739e+01, 1.05679717e+01,\n",
       "       1.05475259e+01, 1.00961191e+01, 1.00717511e+01, 9.84302056e+00,\n",
       "       9.65691879e+00, 9.43161139e+00, 9.32767721e+00, 9.07668889e+00,\n",
       "       8.75801175e+00, 8.58634485e+00, 8.30382338e+00, 8.08203697e+00,\n",
       "       7.90295220e+00, 7.76080199e+00, 7.69185209e+00, 7.63453062e+00,\n",
       "       7.60427464e+00, 7.37543579e+00, 7.22341170e+00, 7.20547464e+00,\n",
       "       7.09690672e+00, 6.89960542e+00, 6.78093114e+00, 6.64482277e+00,\n",
       "       6.51792394e+00, 6.48518183e+00, 6.29253615e+00, 6.04617704e+00,\n",
       "       5.94992575e+00, 5.77209685e+00, 5.68808443e+00, 5.64975977e+00,\n",
       "       5.35265173e+00, 5.29673139e+00, 5.10066308e+00, 4.98100512e+00,\n",
       "       4.73878572e+00, 4.68808759e+00, 4.64183913e+00, 4.50830619e+00,\n",
       "       4.36355387e+00, 4.24379629e+00, 4.15823385e+00, 3.99851082e+00,\n",
       "       3.80386635e+00, 3.75377679e+00, 3.59034594e+00, 3.54830838e+00,\n",
       "       3.40513766e+00, 3.30306815e+00, 3.20351265e+00, 3.18561534e+00,\n",
       "       3.02113943e+00, 2.89506971e+00, 2.85293673e+00, 2.72290694e+00,\n",
       "       2.70807644e+00, 2.60520223e+00, 2.54449057e+00, 2.32984479e+00,\n",
       "       2.27259246e+00, 2.26349256e+00, 2.15768755e+00, 2.09564322e+00,\n",
       "       1.98571295e+00, 1.88301649e+00, 1.86175846e+00, 1.83316307e+00,\n",
       "       1.76152228e+00, 1.68326934e+00, 1.62080814e+00, 1.48858365e+00,\n",
       "       1.44375541e+00, 1.29802688e+00, 1.27107517e+00, 1.24278744e+00,\n",
       "       1.14434240e+00, 9.98384734e-01, 9.71207563e-01, 9.30469191e-01,\n",
       "       8.48425845e-01, 8.01561115e-01, 7.56780287e-01, 7.36245828e-01,\n",
       "       7.25482300e-01, 6.35966374e-01, 5.96030947e-01, 5.76267111e-01,\n",
       "       5.18098032e-01, 4.52635190e-01, 4.27167212e-01, 3.46611017e-01,\n",
       "       3.18462968e-01, 2.89009120e-01, 2.27833268e-01, 2.04064849e-01,\n",
       "       1.14662916e-01, 6.48388399e-02, 5.92975658e-02])"
      ]
     },
     "execution_count": 8,
     "metadata": {},
     "output_type": "execute_result"
    }
   ],
   "source": [
    "np.linalg.eigh(tc)[0][::-1]"
   ]
  },
  {
   "cell_type": "code",
   "execution_count": 9,
   "id": "6c8fd4a8",
   "metadata": {},
   "outputs": [
    {
     "data": {
      "text/plain": [
       "15245078.068472277"
      ]
     },
     "execution_count": 9,
     "metadata": {},
     "output_type": "execute_result"
    }
   ],
   "source": [
    "np.linalg.eigh(tc)[0][::-1][0] / np.linalg.eigh(tc)[0][::-1][-1]"
   ]
  },
  {
   "cell_type": "code",
   "execution_count": 10,
   "id": "6e9f9dbf",
   "metadata": {
    "scrolled": true
   },
   "outputs": [
    {
     "data": {
      "text/plain": [
       "array([1.00473171e+00, 1.00369628e+00, 1.00351957e+00, 1.00335154e+00,\n",
       "       1.00295444e+00, 1.00283813e+00, 1.00255286e+00, 1.00248273e+00,\n",
       "       1.00227666e+00, 1.00207262e+00, 1.00194184e+00, 1.00184165e+00,\n",
       "       1.00171603e+00, 1.00158810e+00, 1.00154939e+00, 1.00146548e+00,\n",
       "       1.00141499e+00, 1.00131420e+00, 1.00127400e+00, 1.00121360e+00,\n",
       "       1.00113422e+00, 1.00111206e+00, 1.00106775e+00, 1.00102300e+00,\n",
       "       1.00099977e+00, 1.00095976e+00, 1.00093545e+00, 1.00087755e+00,\n",
       "       1.00087064e+00, 1.00083885e+00, 1.00077085e+00, 1.00074252e+00,\n",
       "       1.00073461e+00, 1.00069928e+00, 1.00066557e+00, 1.00065195e+00,\n",
       "       1.00061437e+00, 1.00058195e+00, 1.00055716e+00, 1.00054038e+00,\n",
       "       1.00052037e+00, 1.00050251e+00, 1.00049041e+00, 1.00047530e+00,\n",
       "       1.00045336e+00, 1.00044426e+00, 1.00043766e+00, 1.00043533e+00,\n",
       "       1.00042096e+00, 1.00040094e+00, 1.00039192e+00, 1.00037610e+00,\n",
       "       1.00036949e+00, 1.00035975e+00, 1.00034254e+00, 1.00033920e+00,\n",
       "       1.00033139e+00, 1.00032099e+00, 1.00031542e+00, 1.00030745e+00,\n",
       "       1.00029600e+00, 1.00028985e+00, 1.00028296e+00, 1.00028069e+00,\n",
       "       1.00027077e+00, 1.00026682e+00, 1.00025655e+00, 1.00025369e+00,\n",
       "       1.00024877e+00, 1.00024031e+00, 1.00023448e+00, 1.00023110e+00,\n",
       "       1.00022583e+00, 1.00022268e+00, 1.00022207e+00, 1.00021934e+00,\n",
       "       1.00021218e+00, 1.00020780e+00, 1.00020671e+00, 1.00020192e+00,\n",
       "       1.00019749e+00, 1.00019415e+00, 1.00019029e+00, 1.00018747e+00,\n",
       "       1.00018445e+00, 1.00017920e+00, 1.00017485e+00, 1.00017319e+00,\n",
       "       1.00017258e+00, 1.00016887e+00, 1.00016480e+00, 1.00016035e+00,\n",
       "       1.00015842e+00, 1.00015704e+00, 1.00015461e+00, 1.00015334e+00,\n",
       "       1.00015250e+00, 1.00014932e+00, 1.00014788e+00, 1.00014670e+00,\n",
       "       1.00014228e+00, 1.00014002e+00, 1.00013835e+00, 1.00013659e+00,\n",
       "       1.00013272e+00, 1.00013025e+00, 1.00012770e+00, 1.00012732e+00,\n",
       "       1.00012402e+00, 1.00012244e+00, 1.00011972e+00, 1.00011893e+00,\n",
       "       1.00011697e+00, 1.00011520e+00, 1.00011378e+00, 1.00011195e+00,\n",
       "       1.00011061e+00, 1.00010905e+00, 1.00010798e+00, 1.00010676e+00,\n",
       "       1.00010428e+00, 1.00010322e+00, 1.00010219e+00, 1.00010020e+00,\n",
       "       1.00009931e+00, 1.00009695e+00, 1.00009419e+00, 1.00009394e+00,\n",
       "       1.00009080e+00, 1.00008930e+00, 1.00008649e+00, 1.00008614e+00,\n",
       "       1.00008406e+00, 1.00008270e+00, 1.00008232e+00, 1.00008152e+00,\n",
       "       1.00007917e+00, 1.00007715e+00, 1.00007591e+00, 1.00007561e+00,\n",
       "       1.00007361e+00, 1.00007279e+00, 1.00007138e+00, 1.00007044e+00,\n",
       "       1.00006890e+00, 1.00006875e+00, 1.00006722e+00, 1.00006670e+00,\n",
       "       1.00006504e+00, 1.00006451e+00, 1.00006347e+00, 1.00006250e+00,\n",
       "       1.00006121e+00, 1.00006024e+00, 1.00005867e+00, 1.00005843e+00,\n",
       "       1.00005642e+00, 1.00005634e+00, 1.00005497e+00, 1.00005480e+00,\n",
       "       1.00005341e+00, 1.00005280e+00, 1.00005265e+00, 1.00005216e+00,\n",
       "       1.00005078e+00, 1.00004944e+00, 1.00004912e+00, 1.00004832e+00,\n",
       "       1.00004742e+00, 1.00004644e+00, 1.00004550e+00, 1.00004516e+00,\n",
       "       1.00004432e+00, 1.00004305e+00, 1.00004283e+00, 1.00004183e+00,\n",
       "       1.00004145e+00, 1.00004029e+00, 1.00003928e+00, 1.00003881e+00,\n",
       "       1.00003852e+00, 1.00003782e+00, 1.00003751e+00, 1.00003692e+00,\n",
       "       1.00003617e+00, 1.00003540e+00, 1.00003524e+00, 1.00003408e+00,\n",
       "       1.00003370e+00, 1.00003308e+00, 1.00003231e+00, 1.00003182e+00,\n",
       "       1.00003154e+00, 1.00003060e+00, 1.00003023e+00, 1.00003011e+00,\n",
       "       1.00002974e+00, 1.00002924e+00, 1.00002820e+00, 1.00002792e+00,\n",
       "       1.00002723e+00, 1.00002649e+00, 1.00002592e+00, 1.00002572e+00,\n",
       "       1.00002560e+00, 1.00002521e+00, 1.00002503e+00, 1.00002440e+00,\n",
       "       1.00002403e+00, 1.00002333e+00, 1.00002292e+00, 1.00002287e+00,\n",
       "       1.00002208e+00, 1.00002194e+00, 1.00002175e+00, 1.00002153e+00,\n",
       "       1.00002115e+00, 1.00002046e+00, 1.00002032e+00, 1.00002026e+00,\n",
       "       1.00001997e+00, 1.00001984e+00, 1.00001920e+00, 1.00001895e+00,\n",
       "       1.00001882e+00, 1.00001840e+00, 1.00001780e+00, 1.00001755e+00,\n",
       "       1.00001716e+00, 1.00001699e+00, 1.00001683e+00, 1.00001637e+00,\n",
       "       1.00001608e+00, 1.00001571e+00, 1.00001550e+00, 1.00001501e+00,\n",
       "       1.00001485e+00, 1.00001468e+00, 1.00001430e+00, 1.00001383e+00,\n",
       "       1.00001373e+00, 1.00001331e+00, 1.00001302e+00, 1.00001285e+00,\n",
       "       1.00001256e+00, 1.00001231e+00, 1.00001210e+00, 1.00001160e+00,\n",
       "       1.00001143e+00, 1.00001124e+00, 1.00001120e+00, 1.00001065e+00,\n",
       "       1.00001046e+00, 1.00001033e+00, 1.00000995e+00, 1.00000957e+00,\n",
       "       1.00000944e+00, 1.00000935e+00, 1.00000908e+00, 1.00000904e+00,\n",
       "       1.00000887e+00, 1.00000863e+00, 1.00000852e+00, 1.00000845e+00,\n",
       "       1.00000817e+00, 1.00000807e+00, 1.00000797e+00, 1.00000773e+00,\n",
       "       1.00000752e+00, 1.00000738e+00, 1.00000730e+00, 1.00000693e+00,\n",
       "       1.00000681e+00, 1.00000673e+00, 1.00000647e+00, 1.00000627e+00,\n",
       "       1.00000615e+00, 1.00000580e+00, 1.00000569e+00, 1.00000562e+00,\n",
       "       1.00000554e+00, 1.00000534e+00, 1.00000526e+00, 1.00000502e+00,\n",
       "       1.00000491e+00, 1.00000484e+00, 1.00000473e+00, 1.00000450e+00,\n",
       "       1.00000436e+00, 1.00000417e+00, 1.00000405e+00, 1.00000383e+00,\n",
       "       1.00000380e+00, 1.00000367e+00, 1.00000365e+00, 1.00000353e+00,\n",
       "       1.00000344e+00, 1.00000335e+00, 1.00000325e+00, 1.00000321e+00,\n",
       "       1.00000309e+00, 1.00000288e+00, 1.00000281e+00, 1.00000266e+00,\n",
       "       1.00000248e+00, 1.00000244e+00, 1.00000239e+00, 1.00000231e+00,\n",
       "       1.00000219e+00, 1.00000201e+00, 1.00000199e+00, 1.00000191e+00,\n",
       "       1.00000187e+00, 1.00000181e+00, 1.00000167e+00, 1.00000164e+00,\n",
       "       1.00000144e+00, 1.00000138e+00, 1.00000133e+00, 1.00000119e+00,\n",
       "       1.00000109e+00, 1.00000105e+00, 1.00000098e+00, 1.00000096e+00,\n",
       "       1.00000089e+00, 1.00000086e+00, 1.00000081e+00, 1.00000076e+00,\n",
       "       1.00000068e+00, 1.00000063e+00, 1.00000060e+00, 1.00000050e+00,\n",
       "       1.00000046e+00, 1.00000044e+00, 1.00000036e+00, 1.00000034e+00,\n",
       "       1.00000031e+00, 1.00000029e+00, 1.00000024e+00, 1.00000011e+00,\n",
       "       1.00000008e+00, 1.00000005e+00, 1.03771750e-15])"
      ]
     },
     "execution_count": 10,
     "metadata": {},
     "output_type": "execute_result"
    }
   ],
   "source": [
    "np.linalg.eigh(lapin(tc))[0][::-1]"
   ]
  },
  {
   "cell_type": "code",
   "execution_count": 11,
   "id": "19972b5f",
   "metadata": {},
   "outputs": [],
   "source": [
    "np.savetxt(\"corelevance_matrix_lapin.txt\", tc_transformed)"
   ]
  },
  {
   "cell_type": "code",
   "execution_count": null,
   "id": "94e7722f",
   "metadata": {},
   "outputs": [],
   "source": []
  },
  {
   "cell_type": "code",
   "execution_count": null,
   "id": "834ee206",
   "metadata": {},
   "outputs": [],
   "source": []
  },
  {
   "cell_type": "code",
   "execution_count": 12,
   "id": "233c0b71",
   "metadata": {},
   "outputs": [],
   "source": [
    "import numpy as np\n",
    "from operator import itemgetter\n",
    "NUM_EL = 15"
   ]
  },
  {
   "cell_type": "code",
   "execution_count": 13,
   "id": "c0ca10cb",
   "metadata": {},
   "outputs": [],
   "source": [
    "member = np.loadtxt(\"clusters.dat\")"
   ]
  },
  {
   "cell_type": "code",
   "execution_count": 14,
   "id": "40207e4b",
   "metadata": {},
   "outputs": [
    {
     "data": {
      "text/plain": [
       "(343, 7)"
      ]
     },
     "execution_count": 14,
     "metadata": {},
     "output_type": "execute_result"
    }
   ],
   "source": [
    "member.shape"
   ]
  },
  {
   "cell_type": "code",
   "execution_count": 15,
   "id": "5cc402ea",
   "metadata": {
    "scrolled": true
   },
   "outputs": [
    {
     "name": "stdout",
     "output_type": "stream",
     "text": [
      "CLUSTER:\n",
      "\n",
      "[('stochastic difference equations', 0.9392964969964227), ('hypothesis testing multivariate analysis', 0.2611588206615198), ('fuzzy matrices', 0.15383732194012517), ('random fields image analysis', 0.10513017874465339), ('information geometry statistical', 0.04083891799618715), ('packing covering', 0.037385594562387624), ('computational data analysis big data', 0.03147111109797983), ('combinatorial probability', 0.03127681505670111), ('fuzziness design statistical experiments', 0.030899518167011163), ('linear programming', 0.029641227521658257), ('fuzzy analysis statistics', 0.02602991265768288), ('combinatorial matroids geometric lattices', 0.02536025640211493), ('numerical mathematical programming', 0.023377462282849575), ('estimation survival analysis censored data', 0.021469517628252218), ('markov processes hypothesis testing', 0.020424332563427874)]\n",
      "\n",
      "\n",
      "\n",
      "CLUSTER:\n",
      "\n",
      "[('fuzzy difference equations', 0.909832099396069), ('applications statistics', 0.22367943170023796), ('image analysis multivariate analysis', 0.13640316194320684), ('computational data analysis big data', 0.1270100145583522), ('stochastic matrices', 0.10734907351076467), ('hypothesis testing', 0.08725343144262575), ('packing covering', 0.08437951707558435), ('stochastic difference equations', 0.08245592640174391), ('multivariate analysis fuzziness', 0.07899903546750578), ('information geometry statistical', 0.07487563982924157), ('combinatorial probability', 0.0741682191855024), ('functional data analysis', 0.07373386915485769), ('medical epidemiology', 0.06254499567196833), ('inference from spatial processes', 0.060156998335560284), ('matrix exponential similar functions matrices', 0.05066412668640324)]\n",
      "\n",
      "\n",
      "\n",
      "CLUSTER:\n",
      "\n",
      "[('combinatorial packing covering', 0.7255533252817437), ('geometric probability stochastic geometry', 0.36105623709485035), ('approximation functions', 0.27654370238910897), ('numerical computation matrix exponential similar matrix functions', 0.2595895954710554), ('statistical decision', 0.2007939259797441), ('random fields image analysis', 0.1583578150095412), ('estimation multivariate analysis', 0.15460724992441127), ('informational data analysis big data', 0.15217677993382073), ('fuzzy difference equations', 0.1121347185207978), ('applications statistics', 0.09901485109524936), ('probabilistic models generic numerical probability statistics', 0.07954179096051062), ('detection information communication', 0.07452991383440866), ('characterization structure multivariate probability distributions copulas', 0.06796066787851603), ('information kolmogorov complexity', 0.06676990083999508), ('probability on algebraic topological structures', 0.06116052919790111)]\n",
      "\n",
      "\n",
      "\n",
      "CLUSTER:\n",
      "\n",
      "[('inference from stochastic processes fuzziness', 0.5769753336826148), ('image analysis multivariate analysis', 0.5740746367338229), ('hypothesis testing multivariate analysis', 0.29101176833115705), ('fuzziness design statistical experiments', 0.17911380236882346), ('random fields', 0.1747187492058298), ('spatial models sociology', 0.1675543963513527), ('fuzziness survival analysis censored data', 0.1623615224305273), ('computational data analysis big data', 0.14321242319531646), ('approximations statistical distributions nonasymptotic', 0.13111464710732734), ('probabilistic models generic numerical probability statistics', 0.11348200377265757), ('combinatorial packing covering', 0.10481959578776243), ('matrix inversion generalized inverses', 0.10353207274787454), ('matrix exponential similar functions matrices', 0.09922930993180062), ('applications statistics', 0.08393137766889233), ('approximation functions', 0.075869694359882)]\n",
      "\n",
      "\n",
      "\n",
      "CLUSTER:\n",
      "\n",
      "[('erdos', 0.66646279297506), ('mathematical geography demography', 0.28620071934760466), ('order statistics empirical distribution functions', 0.22850032187175817), ('polyhedral combinatorics branch--bound branch--cut', 0.19143444157765818), ('stochastic scheduling', 0.1741133858178034), ('quantile regression', 0.1572873601604833), ('max-plus algebras', 0.1534220416018165), ('cell biology', 0.15273397723892318), ('multilinear algebra tensor calculus', 0.15264497818925715), ('data encryption computer', 0.12582517018050213), ('lattices convex bodies', 0.11719802685127909), ('numerical wavelets', 0.1130053088291675), ('risk models', 0.08605417006572838), ('signal characterization reconstruction filtering', 0.08356499405878548), ('fuzzy matrices', 0.08260672207186966)]\n",
      "\n",
      "\n",
      "\n",
      "CLUSTER:\n",
      "\n",
      "[('traffic', 0.583098971744604), ('duality', 0.4263111849190717), ('sufficient statistics fields', 0.3548032062603668), ('individual preferences', 0.26918339726253915), ('statistical fuzziness sufficiency information', 0.18375717499107688), ('sampling sample surveys', 0.12252982643686607), ('combinatorial complexity', 0.11221728099265353), ('languages software systems knowledge-based systems expert systems', 0.10640309614850754), ('linear inequalities matrices', 0.10062823096979594), ('data structures', 0.08761243660801069), ('iterative numerical linear systems', 0.08749817704233688), ('bootstrap jackknife resampling', 0.08426851449629183), ('generalized linear models logistic models', 0.08237521143829554), ('inverse linear algebra', 0.08065188194748141), ('information kolmogorov complexity', 0.07831381342822642)]\n",
      "\n",
      "\n",
      "\n",
      "CLUSTER:\n",
      "\n",
      "[('multivariate distribution statistics', 0.6542237030173315), ('markov processes estimation hidden markov models', 0.31269748318537816), ('numerical solution ill-posed involving ordinary differential equations', 0.2568957680665295), ('text processing mathematical typography', 0.23591170411751577), ('fuzziness survival analysis censored data', 0.17537497807719918), ('random fields image analysis', 0.16560044201784271), ('determinants permanents traces special matrix functions', 0.15344034335782003), ('difference equations', 0.14338302977771902), ('numerical computer graphics image analysis computational geometry', 0.1348648267343217), ('biostatistics', 0.1289921817162849), ('detection information communication', 0.1184210121593728), ('functional data analysis', 0.11605991525148796), ('semidefinite programming', 0.11465511964811674), ('minimax mathematical programming', 0.11320483264954281), ('applications statistics', 0.10301476552448884)]\n",
      "\n",
      "\n",
      "\n"
     ]
    }
   ],
   "source": [
    "with open(\"taxonomy_leaves.txt\") as fn:\n",
    "    annotations = [l.strip() for l in fn]\n",
    "\n",
    "for cluster in member.T:\n",
    "    print(\"CLUSTER:\\n\")\n",
    "    print(list(sorted(zip(annotations, cluster.flat),\n",
    "                      key=itemgetter(1), reverse=True))[:NUM_EL])\n",
    "    print(\"\\n\\n\")"
   ]
  },
  {
   "cell_type": "code",
   "execution_count": 16,
   "id": "3d91ab0e",
   "metadata": {},
   "outputs": [
    {
     "data": {
      "text/plain": [
       "array([[0.00000000e+00, 6.01415498e-05, 2.66932238e-03, ...,\n",
       "        0.00000000e+00, 0.00000000e+00, 5.59705079e-04],\n",
       "       [0.00000000e+00, 0.00000000e+00, 0.00000000e+00, ...,\n",
       "        0.00000000e+00, 0.00000000e+00, 0.00000000e+00],\n",
       "       [8.11859083e-03, 1.09968658e-03, 0.00000000e+00, ...,\n",
       "        1.52176780e-01, 1.47625734e-02, 0.00000000e+00],\n",
       "       ...,\n",
       "       [2.73589060e-02, 0.00000000e+00, 6.66352512e-02, ...,\n",
       "        0.00000000e+00, 1.87489982e-03, 3.45922275e-03],\n",
       "       [0.00000000e+00, 0.00000000e+00, 0.00000000e+00, ...,\n",
       "        1.09495037e-02, 0.00000000e+00, 0.00000000e+00],\n",
       "       [1.13375730e-02, 0.00000000e+00, 8.09890984e-03, ...,\n",
       "        0.00000000e+00, 2.23934334e-02, 1.40659847e-03]])"
      ]
     },
     "execution_count": 16,
     "metadata": {},
     "output_type": "execute_result"
    }
   ],
   "source": [
    "member.T"
   ]
  },
  {
   "cell_type": "code",
   "execution_count": 17,
   "id": "9578dfc9",
   "metadata": {},
   "outputs": [
    {
     "data": {
      "text/plain": [
       "0.9392964969964227"
      ]
     },
     "execution_count": 17,
     "metadata": {},
     "output_type": "execute_result"
    }
   ],
   "source": [
    "np.max(member)"
   ]
  },
  {
   "cell_type": "code",
   "execution_count": 18,
   "id": "29746f71",
   "metadata": {},
   "outputs": [
    {
     "data": {
      "text/plain": [
       "0.0"
      ]
     },
     "execution_count": 18,
     "metadata": {},
     "output_type": "execute_result"
    }
   ],
   "source": [
    "np.min(member)"
   ]
  },
  {
   "cell_type": "code",
   "execution_count": 19,
   "id": "6ce3ec84",
   "metadata": {},
   "outputs": [
    {
     "data": {
      "text/plain": [
       "(array([2333,   44,   10,    5,    1,    0,    4,    2,    0,    2]),\n",
       " array([0.        , 0.09392965, 0.1878593 , 0.28178895, 0.3757186 ,\n",
       "        0.46964825, 0.5635779 , 0.65750755, 0.7514372 , 0.84536685,\n",
       "        0.9392965 ]))"
      ]
     },
     "execution_count": 19,
     "metadata": {},
     "output_type": "execute_result"
    }
   ],
   "source": [
    "np.histogram(member.flatten())"
   ]
  },
  {
   "cell_type": "code",
   "execution_count": null,
   "id": "2a9cefde",
   "metadata": {},
   "outputs": [],
   "source": []
  },
  {
   "cell_type": "code",
   "execution_count": 20,
   "id": "134a017d",
   "metadata": {},
   "outputs": [],
   "source": [
    "def get_print_top_k_list(U, top_k=10):\n",
    "    _, n_cl = U.shape\n",
    "    top_k_list = []\n",
    "    for i in range(n_cl):\n",
    "        top_k_list.append(np.argsort(U[: ,i])[::-1][:top_k])\n",
    "        print(top_k_list[i])\n",
    "    return top_k_list"
   ]
  },
  {
   "cell_type": "code",
   "execution_count": 21,
   "id": "6a9f8cbf",
   "metadata": {},
   "outputs": [
    {
     "name": "stdout",
     "output_type": "stream",
     "text": [
      "[ 79 133  67 162 105  82 240  87 154 284]\n",
      "[ 78 170 139 240  71 117  82  79 140 105]\n",
      "[ 10  88 186 204 108 162 132 340  78 170]\n",
      "[164 139 133 154  96 306 169 240 114 181]\n",
      "[ 81 305 127 293 280 126  65 318  62 227]\n",
      "[276 291 103 296 107 109  85 245  58 223]\n",
      "[130 157 210 253 169 162  51  77 188 316]\n"
     ]
    }
   ],
   "source": [
    "top_k_list = get_print_top_k_list(member)"
   ]
  },
  {
   "cell_type": "code",
   "execution_count": 22,
   "id": "428fdbc8",
   "metadata": {},
   "outputs": [],
   "source": [
    "def print_intersections(top_k_list):\n",
    "    print('\\t\\t Intersections')\n",
    "    for i in range(len(top_k_list)):\n",
    "        print(f'Cluster {i+1}', end='\\t')\n",
    "        intersections = ''\n",
    "        for j in range(len(top_k_list )):\n",
    "            n_common = len(set(top_k_list[i]).intersection(set(top_k_list[j])))\n",
    "            intersections += f'{n_common} --'\n",
    "        intersections.strip('-')\n",
    "        intersections.strip('-')    \n",
    "        print(intersections)"
   ]
  },
  {
   "cell_type": "code",
   "execution_count": 23,
   "id": "da025359",
   "metadata": {},
   "outputs": [
    {
     "name": "stdout",
     "output_type": "stream",
     "text": [
      "\t\t Intersections\n",
      "Cluster 1\t10 --4 --1 --3 --0 --0 --1 --\n",
      "Cluster 2\t4 --10 --2 --2 --0 --0 --0 --\n",
      "Cluster 3\t1 --2 --10 --0 --0 --0 --1 --\n",
      "Cluster 4\t3 --2 --0 --10 --0 --0 --1 --\n",
      "Cluster 5\t0 --0 --0 --0 --10 --0 --0 --\n",
      "Cluster 6\t0 --0 --0 --0 --0 --10 --0 --\n",
      "Cluster 7\t1 --0 --1 --1 --0 --0 --10 --\n"
     ]
    }
   ],
   "source": [
    "print_intersections(top_k_list)"
   ]
  },
  {
   "cell_type": "code",
   "execution_count": null,
   "id": "c35a92d9",
   "metadata": {},
   "outputs": [],
   "source": []
  }
 ],
 "metadata": {
  "kernelspec": {
   "display_name": "Python 3",
   "language": "python",
   "name": "python3"
  },
  "language_info": {
   "codemirror_mode": {
    "name": "ipython",
    "version": 3
   },
   "file_extension": ".py",
   "mimetype": "text/x-python",
   "name": "python",
   "nbconvert_exporter": "python",
   "pygments_lexer": "ipython3",
   "version": "3.6.9"
  }
 },
 "nbformat": 4,
 "nbformat_minor": 5
}
