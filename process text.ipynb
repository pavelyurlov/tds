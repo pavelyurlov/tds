{
 "cells": [
  {
   "cell_type": "code",
   "execution_count": 1,
   "id": "d4b0dc01",
   "metadata": {},
   "outputs": [],
   "source": [
    "import numpy as np"
   ]
  },
  {
   "cell_type": "code",
   "execution_count": 2,
   "id": "6fa977a7",
   "metadata": {},
   "outputs": [],
   "source": [
    "import pandas as pd"
   ]
  },
  {
   "cell_type": "code",
   "execution_count": 42,
   "id": "4971f4f1",
   "metadata": {},
   "outputs": [],
   "source": [
    "import os"
   ]
  },
  {
   "cell_type": "code",
   "execution_count": 48,
   "id": "b624fbc0",
   "metadata": {},
   "outputs": [],
   "source": [
    "import tqdm"
   ]
  },
  {
   "cell_type": "code",
   "execution_count": 62,
   "id": "c0f35f98",
   "metadata": {},
   "outputs": [],
   "source": [
    "df = pd.read_json('./xaa', lines=True)"
   ]
  },
  {
   "cell_type": "code",
   "execution_count": 65,
   "id": "fbeec0d6",
   "metadata": {
    "scrolled": true
   },
   "outputs": [
    {
     "data": {
      "text/html": [
       "<div>\n",
       "<style scoped>\n",
       "    .dataframe tbody tr th:only-of-type {\n",
       "        vertical-align: middle;\n",
       "    }\n",
       "\n",
       "    .dataframe tbody tr th {\n",
       "        vertical-align: top;\n",
       "    }\n",
       "\n",
       "    .dataframe thead th {\n",
       "        text-align: right;\n",
       "    }\n",
       "</style>\n",
       "<table border=\"1\" class=\"dataframe\">\n",
       "  <thead>\n",
       "    <tr style=\"text-align: right;\">\n",
       "      <th></th>\n",
       "      <th>id</th>\n",
       "      <th>submitter</th>\n",
       "      <th>authors</th>\n",
       "      <th>title</th>\n",
       "      <th>comments</th>\n",
       "      <th>journal-ref</th>\n",
       "      <th>doi</th>\n",
       "      <th>report-no</th>\n",
       "      <th>categories</th>\n",
       "      <th>license</th>\n",
       "      <th>abstract</th>\n",
       "      <th>versions</th>\n",
       "      <th>update_date</th>\n",
       "      <th>authors_parsed</th>\n",
       "    </tr>\n",
       "  </thead>\n",
       "  <tbody>\n",
       "    <tr>\n",
       "      <th>0</th>\n",
       "      <td>704.0001</td>\n",
       "      <td>Pavel Nadolsky</td>\n",
       "      <td>C. Bal\\'azs, E. L. Berger, P. M. Nadolsky, C.-...</td>\n",
       "      <td>Calculation of prompt diphoton production cros...</td>\n",
       "      <td>37 pages, 15 figures; published version</td>\n",
       "      <td>Phys.Rev.D76:013009,2007</td>\n",
       "      <td>10.1103/PhysRevD.76.013009</td>\n",
       "      <td>ANL-HEP-PR-07-12</td>\n",
       "      <td>hep-ph</td>\n",
       "      <td>None</td>\n",
       "      <td>A fully differential calculation in perturba...</td>\n",
       "      <td>[{'version': 'v1', 'created': 'Mon, 2 Apr 2007...</td>\n",
       "      <td>2008-11-26</td>\n",
       "      <td>[[Balázs, C., ], [Berger, E. L., ], [Nadolsky,...</td>\n",
       "    </tr>\n",
       "    <tr>\n",
       "      <th>1</th>\n",
       "      <td>704.0002</td>\n",
       "      <td>Louis Theran</td>\n",
       "      <td>Ileana Streinu and Louis Theran</td>\n",
       "      <td>Sparsity-certifying Graph Decompositions</td>\n",
       "      <td>To appear in Graphs and Combinatorics</td>\n",
       "      <td>None</td>\n",
       "      <td>None</td>\n",
       "      <td>None</td>\n",
       "      <td>math.CO cs.CG</td>\n",
       "      <td>http://arxiv.org/licenses/nonexclusive-distrib...</td>\n",
       "      <td>We describe a new algorithm, the $(k,\\ell)$-...</td>\n",
       "      <td>[{'version': 'v1', 'created': 'Sat, 31 Mar 200...</td>\n",
       "      <td>2008-12-13</td>\n",
       "      <td>[[Streinu, Ileana, ], [Theran, Louis, ]]</td>\n",
       "    </tr>\n",
       "    <tr>\n",
       "      <th>2</th>\n",
       "      <td>704.0003</td>\n",
       "      <td>Hongjun Pan</td>\n",
       "      <td>Hongjun Pan</td>\n",
       "      <td>The evolution of the Earth-Moon system based o...</td>\n",
       "      <td>23 pages, 3 figures</td>\n",
       "      <td>None</td>\n",
       "      <td>None</td>\n",
       "      <td>None</td>\n",
       "      <td>physics.gen-ph</td>\n",
       "      <td>None</td>\n",
       "      <td>The evolution of Earth-Moon system is descri...</td>\n",
       "      <td>[{'version': 'v1', 'created': 'Sun, 1 Apr 2007...</td>\n",
       "      <td>2008-01-13</td>\n",
       "      <td>[[Pan, Hongjun, ]]</td>\n",
       "    </tr>\n",
       "    <tr>\n",
       "      <th>3</th>\n",
       "      <td>704.0004</td>\n",
       "      <td>David Callan</td>\n",
       "      <td>David Callan</td>\n",
       "      <td>A determinant of Stirling cycle numbers counts...</td>\n",
       "      <td>11 pages</td>\n",
       "      <td>None</td>\n",
       "      <td>None</td>\n",
       "      <td>None</td>\n",
       "      <td>math.CO</td>\n",
       "      <td>None</td>\n",
       "      <td>We show that a determinant of Stirling cycle...</td>\n",
       "      <td>[{'version': 'v1', 'created': 'Sat, 31 Mar 200...</td>\n",
       "      <td>2007-05-23</td>\n",
       "      <td>[[Callan, David, ]]</td>\n",
       "    </tr>\n",
       "    <tr>\n",
       "      <th>4</th>\n",
       "      <td>704.0005</td>\n",
       "      <td>Alberto Torchinsky</td>\n",
       "      <td>Wael Abu-Shammala and Alberto Torchinsky</td>\n",
       "      <td>From dyadic $\\Lambda_{\\alpha}$ to $\\Lambda_{\\a...</td>\n",
       "      <td>None</td>\n",
       "      <td>Illinois J. Math. 52 (2008) no.2, 681-689</td>\n",
       "      <td>None</td>\n",
       "      <td>None</td>\n",
       "      <td>math.CA math.FA</td>\n",
       "      <td>None</td>\n",
       "      <td>In this paper we show how to compute the $\\L...</td>\n",
       "      <td>[{'version': 'v1', 'created': 'Mon, 2 Apr 2007...</td>\n",
       "      <td>2013-10-15</td>\n",
       "      <td>[[Abu-Shammala, Wael, ], [Torchinsky, Alberto, ]]</td>\n",
       "    </tr>\n",
       "    <tr>\n",
       "      <th>...</th>\n",
       "      <td>...</td>\n",
       "      <td>...</td>\n",
       "      <td>...</td>\n",
       "      <td>...</td>\n",
       "      <td>...</td>\n",
       "      <td>...</td>\n",
       "      <td>...</td>\n",
       "      <td>...</td>\n",
       "      <td>...</td>\n",
       "      <td>...</td>\n",
       "      <td>...</td>\n",
       "      <td>...</td>\n",
       "      <td>...</td>\n",
       "      <td>...</td>\n",
       "    </tr>\n",
       "    <tr>\n",
       "      <th>19995</th>\n",
       "      <td>708.2144</td>\n",
       "      <td>Eric Woolgar</td>\n",
       "      <td>E. Woolgar</td>\n",
       "      <td>Some Applications of Ricci Flow in Physics</td>\n",
       "      <td>Minor corrections in Sections IV and VI. Invit...</td>\n",
       "      <td>Can.J.Phys.86:645,2008</td>\n",
       "      <td>10.1139/P07-146</td>\n",
       "      <td>None</td>\n",
       "      <td>hep-th gr-qc math.DG</td>\n",
       "      <td>None</td>\n",
       "      <td>I discuss certain applications of the Ricci ...</td>\n",
       "      <td>[{'version': 'v1', 'created': 'Thu, 16 Aug 200...</td>\n",
       "      <td>2009-11-13</td>\n",
       "      <td>[[Woolgar, E., ]]</td>\n",
       "    </tr>\n",
       "    <tr>\n",
       "      <th>19996</th>\n",
       "      <td>708.2145</td>\n",
       "      <td>John Bulava</td>\n",
       "      <td>John Bulava, Robert Edwards, George Fleming, K...</td>\n",
       "      <td>Results and Frontiers in Lattice Baryon Spectr...</td>\n",
       "      <td>To appear in the proceedings for the VII Latin...</td>\n",
       "      <td>AIP Conf.Proc.947:137-140,2007</td>\n",
       "      <td>10.1063/1.2813791</td>\n",
       "      <td>None</td>\n",
       "      <td>hep-lat</td>\n",
       "      <td>None</td>\n",
       "      <td>The Lattice Hadron Physics Collaboration (LH...</td>\n",
       "      <td>[{'version': 'v1', 'created': 'Thu, 16 Aug 200...</td>\n",
       "      <td>2014-11-18</td>\n",
       "      <td>[[Bulava, John, ], [Edwards, Robert, ], [Flemi...</td>\n",
       "    </tr>\n",
       "    <tr>\n",
       "      <th>19997</th>\n",
       "      <td>708.2146</td>\n",
       "      <td>Kaptari Leonid</td>\n",
       "      <td>S. M. Dorkin (International University Dubna, ...</td>\n",
       "      <td>Two-Fermion Bound States within the Bethe-Salp...</td>\n",
       "      <td>32 pages, XIII Tables, 8 figures</td>\n",
       "      <td>FewBodySyst.42:1-32,2008</td>\n",
       "      <td>10.1007/s00601-008-0196-8</td>\n",
       "      <td>None</td>\n",
       "      <td>nucl-th hep-ph</td>\n",
       "      <td>None</td>\n",
       "      <td>To solve the spinor-spinor Bethe-Salpeter eq...</td>\n",
       "      <td>[{'version': 'v1', 'created': 'Thu, 16 Aug 200...</td>\n",
       "      <td>2008-11-26</td>\n",
       "      <td>[[Dorkin, S. M., , International University Du...</td>\n",
       "    </tr>\n",
       "    <tr>\n",
       "      <th>19998</th>\n",
       "      <td>708.2147</td>\n",
       "      <td>Dalius Balciunas</td>\n",
       "      <td>Dalius Balciunas</td>\n",
       "      <td>The logistic equation and a critique of the th...</td>\n",
       "      <td>31 pages, 5 figures, appendix</td>\n",
       "      <td>None</td>\n",
       "      <td>None</td>\n",
       "      <td>None</td>\n",
       "      <td>q-bio.PE</td>\n",
       "      <td>None</td>\n",
       "      <td>Species coexistence is one of the central th...</td>\n",
       "      <td>[{'version': 'v1', 'created': 'Thu, 16 Aug 200...</td>\n",
       "      <td>2007-08-17</td>\n",
       "      <td>[[Balciunas, Dalius, ]]</td>\n",
       "    </tr>\n",
       "    <tr>\n",
       "      <th>19999</th>\n",
       "      <td>708.2148</td>\n",
       "      <td>Reza Nourafkan</td>\n",
       "      <td>R. Nourafkan and N. Nafari</td>\n",
       "      <td>Kondo lattice model at half-filling</td>\n",
       "      <td>11 pages, 5 figures</td>\n",
       "      <td>None</td>\n",
       "      <td>10.1088/0953-8984/20/25/255231</td>\n",
       "      <td>None</td>\n",
       "      <td>cond-mat.str-el</td>\n",
       "      <td>None</td>\n",
       "      <td>The single- and two-channel Kondo lattice mo...</td>\n",
       "      <td>[{'version': 'v1', 'created': 'Thu, 16 Aug 200...</td>\n",
       "      <td>2009-11-13</td>\n",
       "      <td>[[Nourafkan, R., ], [Nafari, N., ]]</td>\n",
       "    </tr>\n",
       "  </tbody>\n",
       "</table>\n",
       "<p>20000 rows × 14 columns</p>\n",
       "</div>"
      ],
      "text/plain": [
       "             id           submitter  \\\n",
       "0      704.0001      Pavel Nadolsky   \n",
       "1      704.0002        Louis Theran   \n",
       "2      704.0003         Hongjun Pan   \n",
       "3      704.0004        David Callan   \n",
       "4      704.0005  Alberto Torchinsky   \n",
       "...         ...                 ...   \n",
       "19995  708.2144        Eric Woolgar   \n",
       "19996  708.2145         John Bulava   \n",
       "19997  708.2146      Kaptari Leonid   \n",
       "19998  708.2147    Dalius Balciunas   \n",
       "19999  708.2148      Reza Nourafkan   \n",
       "\n",
       "                                                 authors  \\\n",
       "0      C. Bal\\'azs, E. L. Berger, P. M. Nadolsky, C.-...   \n",
       "1                        Ileana Streinu and Louis Theran   \n",
       "2                                            Hongjun Pan   \n",
       "3                                           David Callan   \n",
       "4               Wael Abu-Shammala and Alberto Torchinsky   \n",
       "...                                                  ...   \n",
       "19995                                         E. Woolgar   \n",
       "19996  John Bulava, Robert Edwards, George Fleming, K...   \n",
       "19997  S. M. Dorkin (International University Dubna, ...   \n",
       "19998                                   Dalius Balciunas   \n",
       "19999                         R. Nourafkan and N. Nafari   \n",
       "\n",
       "                                                   title  \\\n",
       "0      Calculation of prompt diphoton production cros...   \n",
       "1               Sparsity-certifying Graph Decompositions   \n",
       "2      The evolution of the Earth-Moon system based o...   \n",
       "3      A determinant of Stirling cycle numbers counts...   \n",
       "4      From dyadic $\\Lambda_{\\alpha}$ to $\\Lambda_{\\a...   \n",
       "...                                                  ...   \n",
       "19995         Some Applications of Ricci Flow in Physics   \n",
       "19996  Results and Frontiers in Lattice Baryon Spectr...   \n",
       "19997  Two-Fermion Bound States within the Bethe-Salp...   \n",
       "19998  The logistic equation and a critique of the th...   \n",
       "19999                Kondo lattice model at half-filling   \n",
       "\n",
       "                                                comments  \\\n",
       "0                37 pages, 15 figures; published version   \n",
       "1                  To appear in Graphs and Combinatorics   \n",
       "2                                    23 pages, 3 figures   \n",
       "3                                               11 pages   \n",
       "4                                                   None   \n",
       "...                                                  ...   \n",
       "19995  Minor corrections in Sections IV and VI. Invit...   \n",
       "19996  To appear in the proceedings for the VII Latin...   \n",
       "19997                   32 pages, XIII Tables, 8 figures   \n",
       "19998                      31 pages, 5 figures, appendix   \n",
       "19999                                11 pages, 5 figures   \n",
       "\n",
       "                                     journal-ref  \\\n",
       "0                       Phys.Rev.D76:013009,2007   \n",
       "1                                           None   \n",
       "2                                           None   \n",
       "3                                           None   \n",
       "4      Illinois J. Math. 52 (2008) no.2, 681-689   \n",
       "...                                          ...   \n",
       "19995                     Can.J.Phys.86:645,2008   \n",
       "19996             AIP Conf.Proc.947:137-140,2007   \n",
       "19997                   FewBodySyst.42:1-32,2008   \n",
       "19998                                       None   \n",
       "19999                                       None   \n",
       "\n",
       "                                  doi         report-no            categories  \\\n",
       "0          10.1103/PhysRevD.76.013009  ANL-HEP-PR-07-12                hep-ph   \n",
       "1                                None              None         math.CO cs.CG   \n",
       "2                                None              None        physics.gen-ph   \n",
       "3                                None              None               math.CO   \n",
       "4                                None              None       math.CA math.FA   \n",
       "...                               ...               ...                   ...   \n",
       "19995                 10.1139/P07-146              None  hep-th gr-qc math.DG   \n",
       "19996               10.1063/1.2813791              None               hep-lat   \n",
       "19997       10.1007/s00601-008-0196-8              None        nucl-th hep-ph   \n",
       "19998                            None              None              q-bio.PE   \n",
       "19999  10.1088/0953-8984/20/25/255231              None       cond-mat.str-el   \n",
       "\n",
       "                                                 license  \\\n",
       "0                                                   None   \n",
       "1      http://arxiv.org/licenses/nonexclusive-distrib...   \n",
       "2                                                   None   \n",
       "3                                                   None   \n",
       "4                                                   None   \n",
       "...                                                  ...   \n",
       "19995                                               None   \n",
       "19996                                               None   \n",
       "19997                                               None   \n",
       "19998                                               None   \n",
       "19999                                               None   \n",
       "\n",
       "                                                abstract  \\\n",
       "0        A fully differential calculation in perturba...   \n",
       "1        We describe a new algorithm, the $(k,\\ell)$-...   \n",
       "2        The evolution of Earth-Moon system is descri...   \n",
       "3        We show that a determinant of Stirling cycle...   \n",
       "4        In this paper we show how to compute the $\\L...   \n",
       "...                                                  ...   \n",
       "19995    I discuss certain applications of the Ricci ...   \n",
       "19996    The Lattice Hadron Physics Collaboration (LH...   \n",
       "19997    To solve the spinor-spinor Bethe-Salpeter eq...   \n",
       "19998    Species coexistence is one of the central th...   \n",
       "19999    The single- and two-channel Kondo lattice mo...   \n",
       "\n",
       "                                                versions update_date  \\\n",
       "0      [{'version': 'v1', 'created': 'Mon, 2 Apr 2007...  2008-11-26   \n",
       "1      [{'version': 'v1', 'created': 'Sat, 31 Mar 200...  2008-12-13   \n",
       "2      [{'version': 'v1', 'created': 'Sun, 1 Apr 2007...  2008-01-13   \n",
       "3      [{'version': 'v1', 'created': 'Sat, 31 Mar 200...  2007-05-23   \n",
       "4      [{'version': 'v1', 'created': 'Mon, 2 Apr 2007...  2013-10-15   \n",
       "...                                                  ...         ...   \n",
       "19995  [{'version': 'v1', 'created': 'Thu, 16 Aug 200...  2009-11-13   \n",
       "19996  [{'version': 'v1', 'created': 'Thu, 16 Aug 200...  2014-11-18   \n",
       "19997  [{'version': 'v1', 'created': 'Thu, 16 Aug 200...  2008-11-26   \n",
       "19998  [{'version': 'v1', 'created': 'Thu, 16 Aug 200...  2007-08-17   \n",
       "19999  [{'version': 'v1', 'created': 'Thu, 16 Aug 200...  2009-11-13   \n",
       "\n",
       "                                          authors_parsed  \n",
       "0      [[Balázs, C., ], [Berger, E. L., ], [Nadolsky,...  \n",
       "1               [[Streinu, Ileana, ], [Theran, Louis, ]]  \n",
       "2                                     [[Pan, Hongjun, ]]  \n",
       "3                                    [[Callan, David, ]]  \n",
       "4      [[Abu-Shammala, Wael, ], [Torchinsky, Alberto, ]]  \n",
       "...                                                  ...  \n",
       "19995                                  [[Woolgar, E., ]]  \n",
       "19996  [[Bulava, John, ], [Edwards, Robert, ], [Flemi...  \n",
       "19997  [[Dorkin, S. M., , International University Du...  \n",
       "19998                            [[Balciunas, Dalius, ]]  \n",
       "19999                [[Nourafkan, R., ], [Nafari, N., ]]  \n",
       "\n",
       "[20000 rows x 14 columns]"
      ]
     },
     "execution_count": 65,
     "metadata": {},
     "output_type": "execute_result"
    }
   ],
   "source": [
    "df"
   ]
  },
  {
   "cell_type": "code",
   "execution_count": 66,
   "id": "19e2a933",
   "metadata": {},
   "outputs": [],
   "source": [
    "df['abstract'] = df['abstract'].str.replace('\\n', ' ').str.lower()"
   ]
  },
  {
   "cell_type": "code",
   "execution_count": 67,
   "id": "8d94290b",
   "metadata": {},
   "outputs": [],
   "source": [
    "texts = list(df['abstract'])"
   ]
  },
  {
   "cell_type": "code",
   "execution_count": 68,
   "id": "640a8558",
   "metadata": {},
   "outputs": [],
   "source": [
    "ml_flag = np.array([s.find('machine learning') != -1 for s in texts])"
   ]
  },
  {
   "cell_type": "code",
   "execution_count": 77,
   "id": "4fdbb63f",
   "metadata": {
    "scrolled": true
   },
   "outputs": [
    {
     "data": {
      "text/plain": [
       "['  given a bipartite graph $g = (v_1,v_2,e)$ where edges take on {\\\\it both} positive and negative weights from set $\\\\mathcal{s}$, the {\\\\it maximum weighted edge biclique} problem, or $\\\\mathcal{s}$-mweb for short, asks to find a bipartite subgraph whose sum of edge weights is maximized. this problem has various applications in bioinformatics, machine learning and databases and its (in)approximability remains open. in this paper, we show that for a wide range of choices of $\\\\mathcal{s}$, specifically when $| \\\\frac{\\\\min\\\\mathcal{s}} {\\\\max \\\\mathcal{s}} | \\\\in \\\\omega(\\\\eta^{\\\\delta-1/2}) \\\\cap o(\\\\eta^{1/2-\\\\delta})$ (where $\\\\eta = \\\\max\\\\{|v_1|, |v_2|\\\\}$, and $\\\\delta \\\\in (0,1/2]$), no polynomial time algorithm can approximate $\\\\mathcal{s}$-mweb within a factor of $n^{\\\\epsilon}$ for some $\\\\epsilon > 0$ unless $\\\\mathsf{rp = np}$. this hardness result gives justification of the heuristic approaches adopted for various applied problems in the aforementioned areas, and indicates that good approximation algorithms are unlikely to exist. specifically, we give two applications by showing that: 1) finding statistically significant biclusters in the samba model, proposed in \\\\cite{tan02} for the analysis of microarray data, is $n^{\\\\epsilon}$-inapproximable; and 2) no polynomial time algorithm exists for the minimum description length with holes problem \\\\cite{bu05} unless $\\\\mathsf{rp=np}$. ',\n",
       " '  one of the major problems in computational biology is the inability of existing classification models to incorporate expanding and new domain knowledge. this problem of static classification models is addressed in this paper by the introduction of incremental learning for problems in bioinformatics. many machine learning tools have been applied to this problem using static machine learning structures such as neural networks or support vector machines that are unable to accommodate new information into their existing models. we utilize the fuzzy artmap as an alternate machine learning system that has the ability of incrementally learning new data as it becomes available. the fuzzy artmap is found to be comparable to many of the widespread machine learning systems. the use of an evolutionary strategy in the selection and combination of individual classifiers into an ensemble system, coupled with the incremental learning ability of the fuzzy artmap is proven to be suitable as a pattern classifier. the algorithm presented is tested using data from the g-coupled protein receptors database and shows good accuracy of 83%. the system presented is also generally applicable, and can be used in problems in genomics and proteomics. ',\n",
       " '  evolutionary learning proceeds by evolving a population of classifiers, from which it generally returns (with some notable exceptions) the single best-of-run classifier as final result. in the meanwhile, ensemble learning, one of the most efficient approaches in supervised machine learning for the last decade, proceeds by building a population of diverse classifiers. ensemble learning with evolutionary computation thus receives increasing attention. the evolutionary ensemble learning (eel) approach presented in this paper features two contributions. first, a new fitness function, inspired by co-evolution and enforcing the classifier diversity, is presented. further, a new selection criterion based on the classification margin is proposed. this criterion is used to extract the classifier ensemble from the final population only (off-line) or incrementally along evolution (on-line). experiments on a set of benchmark problems show that off-line outperforms single-hypothesis evolutionary learning and state-of-art boosting and generates smaller classifier ensembles. ',\n",
       " '  design, implementation, and machine learning issues associated with developing a control system for a serpentine robotic manipulator are explored. the controller developed provides autonomous control of the serpentine robotic manipulatorduring operation of the manipulator within an enclosed environment such as an underground storage tank. the controller algorithms make use of both low-level joint angle control employing force/position feedback constraints, and high-level coordinated control of end-effector positioning. this approach has resulted in both high-level full robotic control and low-level telerobotic control modes, and provides a high level of dexterity for the operator. ',\n",
       " '  given a sample covariance matrix, we examine the problem of maximizing the variance explained by a linear combination of the input variables while constraining the number of nonzero coefficients in this combination. this is known as sparse principal component analysis and has a wide array of applications in machine learning and engineering. we formulate a new semidefinite relaxation to this problem and derive a greedy algorithm that computes a full set of good solutions for all target numbers of non zero coefficients, with total complexity o(n^3), where n is the number of variables. we then use the same relaxation to derive sufficient conditions for global optimality of a solution, which can be tested in o(n^3) per pattern. we discuss applications in subset selection and sparse recovery and show on artificial examples and biological data that our algorithm does provide globally optimal solutions in many cases. ',\n",
       " '  consider a hamiltonian system that consists of a slow subsystem s and a fast subsystem f. the autonomous dynamics of s is driven by an effective hamiltonian, but its thermodynamics is unexpected. we show that a well-defined thermodynamic arrow of time (second law) emerges for s whenever there is a well-defined causal arrow from s to f and the back-action is negligible. this is because the back-action of f on s is described by a non-globally hamiltonian born-oppenheimer term that violates the liouville theorem, and makes the second law inapplicable to s. if s and f are mixing, under the causal arrow condition they are described by microcanonic distributions p(s) and p(s|f). their structure supports a causal inference principle proposed recently in machine learning. ',\n",
       " '  this paper describes experiments on learning dutch phonotactic rules using inductive logic programming, a machine learning discipline based on inductive logical operators. two different ways of approaching the problem are experimented with, and compared against each other as well as with related work on the task. the results show a direct correspondence between the quality and informedness of the background knowledge and the constructed theory, demonstrating the ability of ilp to take good advantage of the prior domain knowledge available. further research is outlined. ']"
      ]
     },
     "execution_count": 77,
     "metadata": {},
     "output_type": "execute_result"
    }
   ],
   "source": [
    "list(df.loc[ml_flag]['abstract'])"
   ]
  },
  {
   "cell_type": "code",
   "execution_count": null,
   "id": "9eaf1b21",
   "metadata": {},
   "outputs": [],
   "source": []
  },
  {
   "cell_type": "code",
   "execution_count": 78,
   "id": "675f8d06",
   "metadata": {
    "scrolled": true
   },
   "outputs": [
    {
     "name": "stderr",
     "output_type": "stream",
     "text": [
      "100%|██████████| 102/102 [02:04<00:00,  1.22s/it]\n"
     ]
    }
   ],
   "source": [
    "json_file_names = sorted(os.listdir())[3:]\n",
    "ml_total_abstracts = []\n",
    "for fn in tqdm.tqdm(json_file_names):\n",
    "    df = pd.read_json('./{}'.format(fn), lines=True)\n",
    "    abstracts = list(df['abstract'].str.replace('\\n', ' ').str.lower())\n",
    "    ml_flag = np.array([s.find('machine learning') != -1 for s in abstracts])\n",
    "    ml_abstracts = list(df.loc[ml_flag]['abstract'])\n",
    "    ml_total_abstracts.extend(ml_abstracts)\n"
   ]
  },
  {
   "cell_type": "code",
   "execution_count": 79,
   "id": "1970bbed",
   "metadata": {},
   "outputs": [
    {
     "data": {
      "text/plain": [
       "32632"
      ]
     },
     "execution_count": 79,
     "metadata": {},
     "output_type": "execute_result"
    }
   ],
   "source": [
    "len(ml_total_abstracts)"
   ]
  },
  {
   "cell_type": "code",
   "execution_count": 1,
   "id": "4b79cb1d",
   "metadata": {},
   "outputs": [],
   "source": [
    "import json"
   ]
  },
  {
   "cell_type": "code",
   "execution_count": 82,
   "id": "ee12ec70",
   "metadata": {},
   "outputs": [],
   "source": [
    "with open('ml_abstracts.txt', 'w') as f:\n",
    "    f.write(json.dumps(ml_total_abstracts))"
   ]
  },
  {
   "cell_type": "code",
   "execution_count": 83,
   "id": "b61d4bb6",
   "metadata": {},
   "outputs": [],
   "source": []
  },
  {
   "cell_type": "code",
   "execution_count": 2,
   "id": "5f0cc3a8",
   "metadata": {},
   "outputs": [
    {
     "name": "stdout",
     "output_type": "stream",
     "text": [
      "32632\n"
     ]
    }
   ],
   "source": [
    "\n",
    "a = None\n",
    "with open('ml_abstracts.txt', 'r') as f:\n",
    "    a = json.loads(f.read())\n",
    "print(len(a))\n"
   ]
  },
  {
   "cell_type": "code",
   "execution_count": 3,
   "id": "36ba0e45",
   "metadata": {},
   "outputs": [
    {
     "data": {
      "text/plain": [
       "7.251555555555556"
      ]
     },
     "execution_count": 3,
     "metadata": {},
     "output_type": "execute_result"
    }
   ],
   "source": [
    "32632 * 0.8 / 3600"
   ]
  },
  {
   "cell_type": "code",
   "execution_count": null,
   "id": "3cd5542f",
   "metadata": {},
   "outputs": [],
   "source": []
  }
 ],
 "metadata": {
  "kernelspec": {
   "display_name": "Python 3",
   "language": "python",
   "name": "python3"
  },
  "language_info": {
   "codemirror_mode": {
    "name": "ipython",
    "version": 3
   },
   "file_extension": ".py",
   "mimetype": "text/x-python",
   "name": "python",
   "nbconvert_exporter": "python",
   "pygments_lexer": "ipython3",
   "version": "3.6.9"
  }
 },
 "nbformat": 4,
 "nbformat_minor": 5
}
